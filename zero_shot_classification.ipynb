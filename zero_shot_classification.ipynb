{
  "nbformat": 4,
  "nbformat_minor": 5,
  "metadata": {
    "kernelspec": {
      "display_name": "Python 3",
      "language": "python",
      "name": "python3"
    },
    "language_info": {
      "codemirror_mode": {
        "name": "ipython",
        "version": 3
      },
      "file_extension": ".py",
      "mimetype": "text/x-python",
      "name": "python",
      "nbconvert_exporter": "python",
      "pygments_lexer": "ipython3",
      "version": "3.7.7"
    },
    "colab": {
      "name": "zero-shot-classification.ipynb",
      "provenance": [],
      "collapsed_sections": []
    },
    "accelerator": "GPU",
    "widgets": {
      "application/vnd.jupyter.widget-state+json": {
        "b6556658918646e3a996917a1a3854a5": {
          "model_module": "@jupyter-widgets/controls",
          "model_name": "HBoxModel",
          "state": {
            "_view_name": "HBoxView",
            "_dom_classes": [],
            "_model_name": "HBoxModel",
            "_view_module": "@jupyter-widgets/controls",
            "_model_module_version": "1.5.0",
            "_view_count": null,
            "_view_module_version": "1.5.0",
            "box_style": "",
            "layout": "IPY_MODEL_53e3afd60dd14fad88ec3647205159ef",
            "_model_module": "@jupyter-widgets/controls",
            "children": [
              "IPY_MODEL_73900aea37d34e43b9360083e31c0566",
              "IPY_MODEL_6234789e3d3640cdb291c2b4dd76dd15"
            ]
          }
        },
        "53e3afd60dd14fad88ec3647205159ef": {
          "model_module": "@jupyter-widgets/base",
          "model_name": "LayoutModel",
          "state": {
            "_view_name": "LayoutView",
            "grid_template_rows": null,
            "right": null,
            "justify_content": null,
            "_view_module": "@jupyter-widgets/base",
            "overflow": null,
            "_model_module_version": "1.2.0",
            "_view_count": null,
            "flex_flow": null,
            "width": null,
            "min_width": null,
            "border": null,
            "align_items": null,
            "bottom": null,
            "_model_module": "@jupyter-widgets/base",
            "top": null,
            "grid_column": null,
            "overflow_y": null,
            "overflow_x": null,
            "grid_auto_flow": null,
            "grid_area": null,
            "grid_template_columns": null,
            "flex": null,
            "_model_name": "LayoutModel",
            "justify_items": null,
            "grid_row": null,
            "max_height": null,
            "align_content": null,
            "visibility": null,
            "align_self": null,
            "height": null,
            "min_height": null,
            "padding": null,
            "grid_auto_rows": null,
            "grid_gap": null,
            "max_width": null,
            "order": null,
            "_view_module_version": "1.2.0",
            "grid_template_areas": null,
            "object_position": null,
            "object_fit": null,
            "grid_auto_columns": null,
            "margin": null,
            "display": null,
            "left": null
          }
        },
        "73900aea37d34e43b9360083e31c0566": {
          "model_module": "@jupyter-widgets/controls",
          "model_name": "FloatProgressModel",
          "state": {
            "_view_name": "ProgressView",
            "style": "IPY_MODEL_c78d25adfaf945b8a81a1ebaee9ef64b",
            "_dom_classes": [],
            "description": "Downloading: ",
            "_model_name": "FloatProgressModel",
            "bar_style": "success",
            "max": 5191,
            "_view_module": "@jupyter-widgets/controls",
            "_model_module_version": "1.5.0",
            "value": 5191,
            "_view_count": null,
            "_view_module_version": "1.5.0",
            "orientation": "horizontal",
            "min": 0,
            "description_tooltip": null,
            "_model_module": "@jupyter-widgets/controls",
            "layout": "IPY_MODEL_b42948e0ba474fe09eba86fd4f7336ab"
          }
        },
        "6234789e3d3640cdb291c2b4dd76dd15": {
          "model_module": "@jupyter-widgets/controls",
          "model_name": "HTMLModel",
          "state": {
            "_view_name": "HTMLView",
            "style": "IPY_MODEL_3af220126eaa460b890a2de6f22f0a59",
            "_dom_classes": [],
            "description": "",
            "_model_name": "HTMLModel",
            "placeholder": "​",
            "_view_module": "@jupyter-widgets/controls",
            "_model_module_version": "1.5.0",
            "value": " 22.5k/? [00:00&lt;00:00, 76.2kB/s]",
            "_view_count": null,
            "_view_module_version": "1.5.0",
            "description_tooltip": null,
            "_model_module": "@jupyter-widgets/controls",
            "layout": "IPY_MODEL_85c3b9aab769474e88334acaa2d05f8f"
          }
        },
        "c78d25adfaf945b8a81a1ebaee9ef64b": {
          "model_module": "@jupyter-widgets/controls",
          "model_name": "ProgressStyleModel",
          "state": {
            "_view_name": "StyleView",
            "_model_name": "ProgressStyleModel",
            "description_width": "initial",
            "_view_module": "@jupyter-widgets/base",
            "_model_module_version": "1.5.0",
            "_view_count": null,
            "_view_module_version": "1.2.0",
            "bar_color": null,
            "_model_module": "@jupyter-widgets/controls"
          }
        },
        "b42948e0ba474fe09eba86fd4f7336ab": {
          "model_module": "@jupyter-widgets/base",
          "model_name": "LayoutModel",
          "state": {
            "_view_name": "LayoutView",
            "grid_template_rows": null,
            "right": null,
            "justify_content": null,
            "_view_module": "@jupyter-widgets/base",
            "overflow": null,
            "_model_module_version": "1.2.0",
            "_view_count": null,
            "flex_flow": null,
            "width": null,
            "min_width": null,
            "border": null,
            "align_items": null,
            "bottom": null,
            "_model_module": "@jupyter-widgets/base",
            "top": null,
            "grid_column": null,
            "overflow_y": null,
            "overflow_x": null,
            "grid_auto_flow": null,
            "grid_area": null,
            "grid_template_columns": null,
            "flex": null,
            "_model_name": "LayoutModel",
            "justify_items": null,
            "grid_row": null,
            "max_height": null,
            "align_content": null,
            "visibility": null,
            "align_self": null,
            "height": null,
            "min_height": null,
            "padding": null,
            "grid_auto_rows": null,
            "grid_gap": null,
            "max_width": null,
            "order": null,
            "_view_module_version": "1.2.0",
            "grid_template_areas": null,
            "object_position": null,
            "object_fit": null,
            "grid_auto_columns": null,
            "margin": null,
            "display": null,
            "left": null
          }
        },
        "3af220126eaa460b890a2de6f22f0a59": {
          "model_module": "@jupyter-widgets/controls",
          "model_name": "DescriptionStyleModel",
          "state": {
            "_view_name": "StyleView",
            "_model_name": "DescriptionStyleModel",
            "description_width": "",
            "_view_module": "@jupyter-widgets/base",
            "_model_module_version": "1.5.0",
            "_view_count": null,
            "_view_module_version": "1.2.0",
            "_model_module": "@jupyter-widgets/controls"
          }
        },
        "85c3b9aab769474e88334acaa2d05f8f": {
          "model_module": "@jupyter-widgets/base",
          "model_name": "LayoutModel",
          "state": {
            "_view_name": "LayoutView",
            "grid_template_rows": null,
            "right": null,
            "justify_content": null,
            "_view_module": "@jupyter-widgets/base",
            "overflow": null,
            "_model_module_version": "1.2.0",
            "_view_count": null,
            "flex_flow": null,
            "width": null,
            "min_width": null,
            "border": null,
            "align_items": null,
            "bottom": null,
            "_model_module": "@jupyter-widgets/base",
            "top": null,
            "grid_column": null,
            "overflow_y": null,
            "overflow_x": null,
            "grid_auto_flow": null,
            "grid_area": null,
            "grid_template_columns": null,
            "flex": null,
            "_model_name": "LayoutModel",
            "justify_items": null,
            "grid_row": null,
            "max_height": null,
            "align_content": null,
            "visibility": null,
            "align_self": null,
            "height": null,
            "min_height": null,
            "padding": null,
            "grid_auto_rows": null,
            "grid_gap": null,
            "max_width": null,
            "order": null,
            "_view_module_version": "1.2.0",
            "grid_template_areas": null,
            "object_position": null,
            "object_fit": null,
            "grid_auto_columns": null,
            "margin": null,
            "display": null,
            "left": null
          }
        },
        "70afec773475408d9a92410ef42fe456": {
          "model_module": "@jupyter-widgets/controls",
          "model_name": "HBoxModel",
          "state": {
            "_view_name": "HBoxView",
            "_dom_classes": [],
            "_model_name": "HBoxModel",
            "_view_module": "@jupyter-widgets/controls",
            "_model_module_version": "1.5.0",
            "_view_count": null,
            "_view_module_version": "1.5.0",
            "box_style": "",
            "layout": "IPY_MODEL_4437246af2814e4580661d4242d23d78",
            "_model_module": "@jupyter-widgets/controls",
            "children": [
              "IPY_MODEL_eefc615633674b03ab29d9d3a99970f0",
              "IPY_MODEL_3293770c8f8b46e68b342081a85d35a6"
            ]
          }
        },
        "4437246af2814e4580661d4242d23d78": {
          "model_module": "@jupyter-widgets/base",
          "model_name": "LayoutModel",
          "state": {
            "_view_name": "LayoutView",
            "grid_template_rows": null,
            "right": null,
            "justify_content": null,
            "_view_module": "@jupyter-widgets/base",
            "overflow": null,
            "_model_module_version": "1.2.0",
            "_view_count": null,
            "flex_flow": null,
            "width": null,
            "min_width": null,
            "border": null,
            "align_items": null,
            "bottom": null,
            "_model_module": "@jupyter-widgets/base",
            "top": null,
            "grid_column": null,
            "overflow_y": null,
            "overflow_x": null,
            "grid_auto_flow": null,
            "grid_area": null,
            "grid_template_columns": null,
            "flex": null,
            "_model_name": "LayoutModel",
            "justify_items": null,
            "grid_row": null,
            "max_height": null,
            "align_content": null,
            "visibility": null,
            "align_self": null,
            "height": null,
            "min_height": null,
            "padding": null,
            "grid_auto_rows": null,
            "grid_gap": null,
            "max_width": null,
            "order": null,
            "_view_module_version": "1.2.0",
            "grid_template_areas": null,
            "object_position": null,
            "object_fit": null,
            "grid_auto_columns": null,
            "margin": null,
            "display": null,
            "left": null
          }
        },
        "eefc615633674b03ab29d9d3a99970f0": {
          "model_module": "@jupyter-widgets/controls",
          "model_name": "FloatProgressModel",
          "state": {
            "_view_name": "ProgressView",
            "style": "IPY_MODEL_b26b45516302464a836b83b612de34f4",
            "_dom_classes": [],
            "description": "Downloading: ",
            "_model_name": "FloatProgressModel",
            "bar_style": "success",
            "max": 2932,
            "_view_module": "@jupyter-widgets/controls",
            "_model_module_version": "1.5.0",
            "value": 2932,
            "_view_count": null,
            "_view_module_version": "1.5.0",
            "orientation": "horizontal",
            "min": 0,
            "description_tooltip": null,
            "_model_module": "@jupyter-widgets/controls",
            "layout": "IPY_MODEL_160c8fd435d84750aae3f81edeedbd3d"
          }
        },
        "3293770c8f8b46e68b342081a85d35a6": {
          "model_module": "@jupyter-widgets/controls",
          "model_name": "HTMLModel",
          "state": {
            "_view_name": "HTMLView",
            "style": "IPY_MODEL_39e1d3873da446629a84356f2db9114e",
            "_dom_classes": [],
            "description": "",
            "_model_name": "HTMLModel",
            "placeholder": "​",
            "_view_module": "@jupyter-widgets/controls",
            "_model_module_version": "1.5.0",
            "value": " 22.7k/? [00:00&lt;00:00, 218kB/s]",
            "_view_count": null,
            "_view_module_version": "1.5.0",
            "description_tooltip": null,
            "_model_module": "@jupyter-widgets/controls",
            "layout": "IPY_MODEL_9b6b0541396c4fbd98d7e09d52d7f750"
          }
        },
        "b26b45516302464a836b83b612de34f4": {
          "model_module": "@jupyter-widgets/controls",
          "model_name": "ProgressStyleModel",
          "state": {
            "_view_name": "StyleView",
            "_model_name": "ProgressStyleModel",
            "description_width": "initial",
            "_view_module": "@jupyter-widgets/base",
            "_model_module_version": "1.5.0",
            "_view_count": null,
            "_view_module_version": "1.2.0",
            "bar_color": null,
            "_model_module": "@jupyter-widgets/controls"
          }
        },
        "160c8fd435d84750aae3f81edeedbd3d": {
          "model_module": "@jupyter-widgets/base",
          "model_name": "LayoutModel",
          "state": {
            "_view_name": "LayoutView",
            "grid_template_rows": null,
            "right": null,
            "justify_content": null,
            "_view_module": "@jupyter-widgets/base",
            "overflow": null,
            "_model_module_version": "1.2.0",
            "_view_count": null,
            "flex_flow": null,
            "width": null,
            "min_width": null,
            "border": null,
            "align_items": null,
            "bottom": null,
            "_model_module": "@jupyter-widgets/base",
            "top": null,
            "grid_column": null,
            "overflow_y": null,
            "overflow_x": null,
            "grid_auto_flow": null,
            "grid_area": null,
            "grid_template_columns": null,
            "flex": null,
            "_model_name": "LayoutModel",
            "justify_items": null,
            "grid_row": null,
            "max_height": null,
            "align_content": null,
            "visibility": null,
            "align_self": null,
            "height": null,
            "min_height": null,
            "padding": null,
            "grid_auto_rows": null,
            "grid_gap": null,
            "max_width": null,
            "order": null,
            "_view_module_version": "1.2.0",
            "grid_template_areas": null,
            "object_position": null,
            "object_fit": null,
            "grid_auto_columns": null,
            "margin": null,
            "display": null,
            "left": null
          }
        },
        "39e1d3873da446629a84356f2db9114e": {
          "model_module": "@jupyter-widgets/controls",
          "model_name": "DescriptionStyleModel",
          "state": {
            "_view_name": "StyleView",
            "_model_name": "DescriptionStyleModel",
            "description_width": "",
            "_view_module": "@jupyter-widgets/base",
            "_model_module_version": "1.5.0",
            "_view_count": null,
            "_view_module_version": "1.2.0",
            "_model_module": "@jupyter-widgets/controls"
          }
        },
        "9b6b0541396c4fbd98d7e09d52d7f750": {
          "model_module": "@jupyter-widgets/base",
          "model_name": "LayoutModel",
          "state": {
            "_view_name": "LayoutView",
            "grid_template_rows": null,
            "right": null,
            "justify_content": null,
            "_view_module": "@jupyter-widgets/base",
            "overflow": null,
            "_model_module_version": "1.2.0",
            "_view_count": null,
            "flex_flow": null,
            "width": null,
            "min_width": null,
            "border": null,
            "align_items": null,
            "bottom": null,
            "_model_module": "@jupyter-widgets/base",
            "top": null,
            "grid_column": null,
            "overflow_y": null,
            "overflow_x": null,
            "grid_auto_flow": null,
            "grid_area": null,
            "grid_template_columns": null,
            "flex": null,
            "_model_name": "LayoutModel",
            "justify_items": null,
            "grid_row": null,
            "max_height": null,
            "align_content": null,
            "visibility": null,
            "align_self": null,
            "height": null,
            "min_height": null,
            "padding": null,
            "grid_auto_rows": null,
            "grid_gap": null,
            "max_width": null,
            "order": null,
            "_view_module_version": "1.2.0",
            "grid_template_areas": null,
            "object_position": null,
            "object_fit": null,
            "grid_auto_columns": null,
            "margin": null,
            "display": null,
            "left": null
          }
        },
        "40c042b81b8441eda81c87f36af10227": {
          "model_module": "@jupyter-widgets/controls",
          "model_name": "HBoxModel",
          "state": {
            "_view_name": "HBoxView",
            "_dom_classes": [],
            "_model_name": "HBoxModel",
            "_view_module": "@jupyter-widgets/controls",
            "_model_module_version": "1.5.0",
            "_view_count": null,
            "_view_module_version": "1.5.0",
            "box_style": "",
            "layout": "IPY_MODEL_7cff919a58c54cb8ab4e4969f18356a9",
            "_model_module": "@jupyter-widgets/controls",
            "children": [
              "IPY_MODEL_a1c399b093ba48679efa455c7b8cf173",
              "IPY_MODEL_839724306e854b23bb06c295a49b4aea"
            ]
          }
        },
        "7cff919a58c54cb8ab4e4969f18356a9": {
          "model_module": "@jupyter-widgets/base",
          "model_name": "LayoutModel",
          "state": {
            "_view_name": "LayoutView",
            "grid_template_rows": null,
            "right": null,
            "justify_content": null,
            "_view_module": "@jupyter-widgets/base",
            "overflow": null,
            "_model_module_version": "1.2.0",
            "_view_count": null,
            "flex_flow": null,
            "width": null,
            "min_width": null,
            "border": null,
            "align_items": null,
            "bottom": null,
            "_model_module": "@jupyter-widgets/base",
            "top": null,
            "grid_column": null,
            "overflow_y": null,
            "overflow_x": null,
            "grid_auto_flow": null,
            "grid_area": null,
            "grid_template_columns": null,
            "flex": null,
            "_model_name": "LayoutModel",
            "justify_items": null,
            "grid_row": null,
            "max_height": null,
            "align_content": null,
            "visibility": null,
            "align_self": null,
            "height": null,
            "min_height": null,
            "padding": null,
            "grid_auto_rows": null,
            "grid_gap": null,
            "max_width": null,
            "order": null,
            "_view_module_version": "1.2.0",
            "grid_template_areas": null,
            "object_position": null,
            "object_fit": null,
            "grid_auto_columns": null,
            "margin": null,
            "display": null,
            "left": null
          }
        },
        "a1c399b093ba48679efa455c7b8cf173": {
          "model_module": "@jupyter-widgets/controls",
          "model_name": "FloatProgressModel",
          "state": {
            "_view_name": "ProgressView",
            "style": "IPY_MODEL_b8c049c9ea754fe69f3ad6a573643dda",
            "_dom_classes": [],
            "description": "Downloading: 100%",
            "_model_name": "FloatProgressModel",
            "bar_style": "success",
            "max": 4932555,
            "_view_module": "@jupyter-widgets/controls",
            "_model_module_version": "1.5.0",
            "value": 4932555,
            "_view_count": null,
            "_view_module_version": "1.5.0",
            "orientation": "horizontal",
            "min": 0,
            "description_tooltip": null,
            "_model_module": "@jupyter-widgets/controls",
            "layout": "IPY_MODEL_46931dfa4da144baa74f6033c08ce501"
          }
        },
        "839724306e854b23bb06c295a49b4aea": {
          "model_module": "@jupyter-widgets/controls",
          "model_name": "HTMLModel",
          "state": {
            "_view_name": "HTMLView",
            "style": "IPY_MODEL_82018235a75b418390fcdd016b03d9be",
            "_dom_classes": [],
            "description": "",
            "_model_name": "HTMLModel",
            "placeholder": "​",
            "_view_module": "@jupyter-widgets/controls",
            "_model_module_version": "1.5.0",
            "value": " 4.93M/4.93M [00:01&lt;00:00, 4.48MB/s]",
            "_view_count": null,
            "_view_module_version": "1.5.0",
            "description_tooltip": null,
            "_model_module": "@jupyter-widgets/controls",
            "layout": "IPY_MODEL_5dde839458d64e19a8fb4d3cec53c373"
          }
        },
        "b8c049c9ea754fe69f3ad6a573643dda": {
          "model_module": "@jupyter-widgets/controls",
          "model_name": "ProgressStyleModel",
          "state": {
            "_view_name": "StyleView",
            "_model_name": "ProgressStyleModel",
            "description_width": "initial",
            "_view_module": "@jupyter-widgets/base",
            "_model_module_version": "1.5.0",
            "_view_count": null,
            "_view_module_version": "1.2.0",
            "bar_color": null,
            "_model_module": "@jupyter-widgets/controls"
          }
        },
        "46931dfa4da144baa74f6033c08ce501": {
          "model_module": "@jupyter-widgets/base",
          "model_name": "LayoutModel",
          "state": {
            "_view_name": "LayoutView",
            "grid_template_rows": null,
            "right": null,
            "justify_content": null,
            "_view_module": "@jupyter-widgets/base",
            "overflow": null,
            "_model_module_version": "1.2.0",
            "_view_count": null,
            "flex_flow": null,
            "width": null,
            "min_width": null,
            "border": null,
            "align_items": null,
            "bottom": null,
            "_model_module": "@jupyter-widgets/base",
            "top": null,
            "grid_column": null,
            "overflow_y": null,
            "overflow_x": null,
            "grid_auto_flow": null,
            "grid_area": null,
            "grid_template_columns": null,
            "flex": null,
            "_model_name": "LayoutModel",
            "justify_items": null,
            "grid_row": null,
            "max_height": null,
            "align_content": null,
            "visibility": null,
            "align_self": null,
            "height": null,
            "min_height": null,
            "padding": null,
            "grid_auto_rows": null,
            "grid_gap": null,
            "max_width": null,
            "order": null,
            "_view_module_version": "1.2.0",
            "grid_template_areas": null,
            "object_position": null,
            "object_fit": null,
            "grid_auto_columns": null,
            "margin": null,
            "display": null,
            "left": null
          }
        },
        "82018235a75b418390fcdd016b03d9be": {
          "model_module": "@jupyter-widgets/controls",
          "model_name": "DescriptionStyleModel",
          "state": {
            "_view_name": "StyleView",
            "_model_name": "DescriptionStyleModel",
            "description_width": "",
            "_view_module": "@jupyter-widgets/base",
            "_model_module_version": "1.5.0",
            "_view_count": null,
            "_view_module_version": "1.2.0",
            "_model_module": "@jupyter-widgets/controls"
          }
        },
        "5dde839458d64e19a8fb4d3cec53c373": {
          "model_module": "@jupyter-widgets/base",
          "model_name": "LayoutModel",
          "state": {
            "_view_name": "LayoutView",
            "grid_template_rows": null,
            "right": null,
            "justify_content": null,
            "_view_module": "@jupyter-widgets/base",
            "overflow": null,
            "_model_module_version": "1.2.0",
            "_view_count": null,
            "flex_flow": null,
            "width": null,
            "min_width": null,
            "border": null,
            "align_items": null,
            "bottom": null,
            "_model_module": "@jupyter-widgets/base",
            "top": null,
            "grid_column": null,
            "overflow_y": null,
            "overflow_x": null,
            "grid_auto_flow": null,
            "grid_area": null,
            "grid_template_columns": null,
            "flex": null,
            "_model_name": "LayoutModel",
            "justify_items": null,
            "grid_row": null,
            "max_height": null,
            "align_content": null,
            "visibility": null,
            "align_self": null,
            "height": null,
            "min_height": null,
            "padding": null,
            "grid_auto_rows": null,
            "grid_gap": null,
            "max_width": null,
            "order": null,
            "_view_module_version": "1.2.0",
            "grid_template_areas": null,
            "object_position": null,
            "object_fit": null,
            "grid_auto_columns": null,
            "margin": null,
            "display": null,
            "left": null
          }
        },
        "0346f75152924bce8c86426ccb7fa9e2": {
          "model_module": "@jupyter-widgets/controls",
          "model_name": "HBoxModel",
          "state": {
            "_view_name": "HBoxView",
            "_dom_classes": [],
            "_model_name": "HBoxModel",
            "_view_module": "@jupyter-widgets/controls",
            "_model_module_version": "1.5.0",
            "_view_count": null,
            "_view_module_version": "1.5.0",
            "box_style": "",
            "layout": "IPY_MODEL_0257e3e545f34f2b89e3400468778e95",
            "_model_module": "@jupyter-widgets/controls",
            "children": [
              "IPY_MODEL_8e6a5e3352a14e26bb24306c635a9715",
              "IPY_MODEL_f22b025d32d34bc5872159f4035ec3f1"
            ]
          }
        },
        "0257e3e545f34f2b89e3400468778e95": {
          "model_module": "@jupyter-widgets/base",
          "model_name": "LayoutModel",
          "state": {
            "_view_name": "LayoutView",
            "grid_template_rows": null,
            "right": null,
            "justify_content": null,
            "_view_module": "@jupyter-widgets/base",
            "overflow": null,
            "_model_module_version": "1.2.0",
            "_view_count": null,
            "flex_flow": null,
            "width": null,
            "min_width": null,
            "border": null,
            "align_items": null,
            "bottom": null,
            "_model_module": "@jupyter-widgets/base",
            "top": null,
            "grid_column": null,
            "overflow_y": null,
            "overflow_x": null,
            "grid_auto_flow": null,
            "grid_area": null,
            "grid_template_columns": null,
            "flex": null,
            "_model_name": "LayoutModel",
            "justify_items": null,
            "grid_row": null,
            "max_height": null,
            "align_content": null,
            "visibility": null,
            "align_self": null,
            "height": null,
            "min_height": null,
            "padding": null,
            "grid_auto_rows": null,
            "grid_gap": null,
            "max_width": null,
            "order": null,
            "_view_module_version": "1.2.0",
            "grid_template_areas": null,
            "object_position": null,
            "object_fit": null,
            "grid_auto_columns": null,
            "margin": null,
            "display": null,
            "left": null
          }
        },
        "8e6a5e3352a14e26bb24306c635a9715": {
          "model_module": "@jupyter-widgets/controls",
          "model_name": "FloatProgressModel",
          "state": {
            "_view_name": "ProgressView",
            "style": "IPY_MODEL_f4252a9fdd384481b9fe9c1b5db3777f",
            "_dom_classes": [],
            "description": "",
            "_model_name": "FloatProgressModel",
            "bar_style": "info",
            "max": 1,
            "_view_module": "@jupyter-widgets/controls",
            "_model_module_version": "1.5.0",
            "value": 1,
            "_view_count": null,
            "_view_module_version": "1.5.0",
            "orientation": "horizontal",
            "min": 0,
            "description_tooltip": null,
            "_model_module": "@jupyter-widgets/controls",
            "layout": "IPY_MODEL_8422c52c656a4988b6d0e58d41dc7b40"
          }
        },
        "f22b025d32d34bc5872159f4035ec3f1": {
          "model_module": "@jupyter-widgets/controls",
          "model_name": "HTMLModel",
          "state": {
            "_view_name": "HTMLView",
            "style": "IPY_MODEL_01912b8ed56345cca34aa9c8831d3a6a",
            "_dom_classes": [],
            "description": "",
            "_model_name": "HTMLModel",
            "placeholder": "​",
            "_view_module": "@jupyter-widgets/controls",
            "_model_module_version": "1.5.0",
            "value": " 45678/0 [00:03&lt;00:00, 674.28 examples/s]",
            "_view_count": null,
            "_view_module_version": "1.5.0",
            "description_tooltip": null,
            "_model_module": "@jupyter-widgets/controls",
            "layout": "IPY_MODEL_abe085add29a4b369770c89a34595f9c"
          }
        },
        "f4252a9fdd384481b9fe9c1b5db3777f": {
          "model_module": "@jupyter-widgets/controls",
          "model_name": "ProgressStyleModel",
          "state": {
            "_view_name": "StyleView",
            "_model_name": "ProgressStyleModel",
            "description_width": "initial",
            "_view_module": "@jupyter-widgets/base",
            "_model_module_version": "1.5.0",
            "_view_count": null,
            "_view_module_version": "1.2.0",
            "bar_color": null,
            "_model_module": "@jupyter-widgets/controls"
          }
        },
        "8422c52c656a4988b6d0e58d41dc7b40": {
          "model_module": "@jupyter-widgets/base",
          "model_name": "LayoutModel",
          "state": {
            "_view_name": "LayoutView",
            "grid_template_rows": null,
            "right": null,
            "justify_content": null,
            "_view_module": "@jupyter-widgets/base",
            "overflow": null,
            "_model_module_version": "1.2.0",
            "_view_count": null,
            "flex_flow": null,
            "width": null,
            "min_width": null,
            "border": null,
            "align_items": null,
            "bottom": null,
            "_model_module": "@jupyter-widgets/base",
            "top": null,
            "grid_column": null,
            "overflow_y": null,
            "overflow_x": null,
            "grid_auto_flow": null,
            "grid_area": null,
            "grid_template_columns": null,
            "flex": null,
            "_model_name": "LayoutModel",
            "justify_items": null,
            "grid_row": null,
            "max_height": null,
            "align_content": null,
            "visibility": null,
            "align_self": null,
            "height": null,
            "min_height": null,
            "padding": null,
            "grid_auto_rows": null,
            "grid_gap": null,
            "max_width": null,
            "order": null,
            "_view_module_version": "1.2.0",
            "grid_template_areas": null,
            "object_position": null,
            "object_fit": null,
            "grid_auto_columns": null,
            "margin": null,
            "display": null,
            "left": null
          }
        },
        "01912b8ed56345cca34aa9c8831d3a6a": {
          "model_module": "@jupyter-widgets/controls",
          "model_name": "DescriptionStyleModel",
          "state": {
            "_view_name": "StyleView",
            "_model_name": "DescriptionStyleModel",
            "description_width": "",
            "_view_module": "@jupyter-widgets/base",
            "_model_module_version": "1.5.0",
            "_view_count": null,
            "_view_module_version": "1.2.0",
            "_model_module": "@jupyter-widgets/controls"
          }
        },
        "abe085add29a4b369770c89a34595f9c": {
          "model_module": "@jupyter-widgets/base",
          "model_name": "LayoutModel",
          "state": {
            "_view_name": "LayoutView",
            "grid_template_rows": null,
            "right": null,
            "justify_content": null,
            "_view_module": "@jupyter-widgets/base",
            "overflow": null,
            "_model_module_version": "1.2.0",
            "_view_count": null,
            "flex_flow": null,
            "width": null,
            "min_width": null,
            "border": null,
            "align_items": null,
            "bottom": null,
            "_model_module": "@jupyter-widgets/base",
            "top": null,
            "grid_column": null,
            "overflow_y": null,
            "overflow_x": null,
            "grid_auto_flow": null,
            "grid_area": null,
            "grid_template_columns": null,
            "flex": null,
            "_model_name": "LayoutModel",
            "justify_items": null,
            "grid_row": null,
            "max_height": null,
            "align_content": null,
            "visibility": null,
            "align_self": null,
            "height": null,
            "min_height": null,
            "padding": null,
            "grid_auto_rows": null,
            "grid_gap": null,
            "max_width": null,
            "order": null,
            "_view_module_version": "1.2.0",
            "grid_template_areas": null,
            "object_position": null,
            "object_fit": null,
            "grid_auto_columns": null,
            "margin": null,
            "display": null,
            "left": null
          }
        },
        "f9fd0aa1d5f442668d323d2586fce6ef": {
          "model_module": "@jupyter-widgets/controls",
          "model_name": "HBoxModel",
          "state": {
            "_view_name": "HBoxView",
            "_dom_classes": [],
            "_model_name": "HBoxModel",
            "_view_module": "@jupyter-widgets/controls",
            "_model_module_version": "1.5.0",
            "_view_count": null,
            "_view_module_version": "1.5.0",
            "box_style": "",
            "layout": "IPY_MODEL_ee0e2fd1afe64c169036809b59c09160",
            "_model_module": "@jupyter-widgets/controls",
            "children": [
              "IPY_MODEL_22cafb226aa5417faef7f6ed96eac880",
              "IPY_MODEL_c601ddd50cee4788b3a05506c22e370c"
            ]
          }
        },
        "ee0e2fd1afe64c169036809b59c09160": {
          "model_module": "@jupyter-widgets/base",
          "model_name": "LayoutModel",
          "state": {
            "_view_name": "LayoutView",
            "grid_template_rows": null,
            "right": null,
            "justify_content": null,
            "_view_module": "@jupyter-widgets/base",
            "overflow": null,
            "_model_module_version": "1.2.0",
            "_view_count": null,
            "flex_flow": null,
            "width": null,
            "min_width": null,
            "border": null,
            "align_items": null,
            "bottom": null,
            "_model_module": "@jupyter-widgets/base",
            "top": null,
            "grid_column": null,
            "overflow_y": null,
            "overflow_x": null,
            "grid_auto_flow": null,
            "grid_area": null,
            "grid_template_columns": null,
            "flex": null,
            "_model_name": "LayoutModel",
            "justify_items": null,
            "grid_row": null,
            "max_height": null,
            "align_content": null,
            "visibility": null,
            "align_self": null,
            "height": null,
            "min_height": null,
            "padding": null,
            "grid_auto_rows": null,
            "grid_gap": null,
            "max_width": null,
            "order": null,
            "_view_module_version": "1.2.0",
            "grid_template_areas": null,
            "object_position": null,
            "object_fit": null,
            "grid_auto_columns": null,
            "margin": null,
            "display": null,
            "left": null
          }
        },
        "22cafb226aa5417faef7f6ed96eac880": {
          "model_module": "@jupyter-widgets/controls",
          "model_name": "FloatProgressModel",
          "state": {
            "_view_name": "ProgressView",
            "style": "IPY_MODEL_b1f691424c994cafbb1aecdffb7ba8c1",
            "_dom_classes": [],
            "description": "",
            "_model_name": "FloatProgressModel",
            "bar_style": "info",
            "max": 1,
            "_view_module": "@jupyter-widgets/controls",
            "_model_module_version": "1.5.0",
            "value": 1,
            "_view_count": null,
            "_view_module_version": "1.5.0",
            "orientation": "horizontal",
            "min": 0,
            "description_tooltip": null,
            "_model_module": "@jupyter-widgets/controls",
            "layout": "IPY_MODEL_373f36ea90c14ef29502bc43f003b04d"
          }
        },
        "c601ddd50cee4788b3a05506c22e370c": {
          "model_module": "@jupyter-widgets/controls",
          "model_name": "HTMLModel",
          "state": {
            "_view_name": "HTMLView",
            "style": "IPY_MODEL_cd8eea9b2afa4c2b9b5d900e87dab964",
            "_dom_classes": [],
            "description": "",
            "_model_name": "HTMLModel",
            "placeholder": "​",
            "_view_module": "@jupyter-widgets/controls",
            "_model_module_version": "1.5.0",
            "value": " 9107/0 [00:00&lt;00:00, 25.35 examples/s]",
            "_view_count": null,
            "_view_module_version": "1.5.0",
            "description_tooltip": null,
            "_model_module": "@jupyter-widgets/controls",
            "layout": "IPY_MODEL_e59826e79880447583365947713abe11"
          }
        },
        "b1f691424c994cafbb1aecdffb7ba8c1": {
          "model_module": "@jupyter-widgets/controls",
          "model_name": "ProgressStyleModel",
          "state": {
            "_view_name": "StyleView",
            "_model_name": "ProgressStyleModel",
            "description_width": "initial",
            "_view_module": "@jupyter-widgets/base",
            "_model_module_version": "1.5.0",
            "_view_count": null,
            "_view_module_version": "1.2.0",
            "bar_color": null,
            "_model_module": "@jupyter-widgets/controls"
          }
        },
        "373f36ea90c14ef29502bc43f003b04d": {
          "model_module": "@jupyter-widgets/base",
          "model_name": "LayoutModel",
          "state": {
            "_view_name": "LayoutView",
            "grid_template_rows": null,
            "right": null,
            "justify_content": null,
            "_view_module": "@jupyter-widgets/base",
            "overflow": null,
            "_model_module_version": "1.2.0",
            "_view_count": null,
            "flex_flow": null,
            "width": null,
            "min_width": null,
            "border": null,
            "align_items": null,
            "bottom": null,
            "_model_module": "@jupyter-widgets/base",
            "top": null,
            "grid_column": null,
            "overflow_y": null,
            "overflow_x": null,
            "grid_auto_flow": null,
            "grid_area": null,
            "grid_template_columns": null,
            "flex": null,
            "_model_name": "LayoutModel",
            "justify_items": null,
            "grid_row": null,
            "max_height": null,
            "align_content": null,
            "visibility": null,
            "align_self": null,
            "height": null,
            "min_height": null,
            "padding": null,
            "grid_auto_rows": null,
            "grid_gap": null,
            "max_width": null,
            "order": null,
            "_view_module_version": "1.2.0",
            "grid_template_areas": null,
            "object_position": null,
            "object_fit": null,
            "grid_auto_columns": null,
            "margin": null,
            "display": null,
            "left": null
          }
        },
        "cd8eea9b2afa4c2b9b5d900e87dab964": {
          "model_module": "@jupyter-widgets/controls",
          "model_name": "DescriptionStyleModel",
          "state": {
            "_view_name": "StyleView",
            "_model_name": "DescriptionStyleModel",
            "description_width": "",
            "_view_module": "@jupyter-widgets/base",
            "_model_module_version": "1.5.0",
            "_view_count": null,
            "_view_module_version": "1.2.0",
            "_model_module": "@jupyter-widgets/controls"
          }
        },
        "e59826e79880447583365947713abe11": {
          "model_module": "@jupyter-widgets/base",
          "model_name": "LayoutModel",
          "state": {
            "_view_name": "LayoutView",
            "grid_template_rows": null,
            "right": null,
            "justify_content": null,
            "_view_module": "@jupyter-widgets/base",
            "overflow": null,
            "_model_module_version": "1.2.0",
            "_view_count": null,
            "flex_flow": null,
            "width": null,
            "min_width": null,
            "border": null,
            "align_items": null,
            "bottom": null,
            "_model_module": "@jupyter-widgets/base",
            "top": null,
            "grid_column": null,
            "overflow_y": null,
            "overflow_x": null,
            "grid_auto_flow": null,
            "grid_area": null,
            "grid_template_columns": null,
            "flex": null,
            "_model_name": "LayoutModel",
            "justify_items": null,
            "grid_row": null,
            "max_height": null,
            "align_content": null,
            "visibility": null,
            "align_self": null,
            "height": null,
            "min_height": null,
            "padding": null,
            "grid_auto_rows": null,
            "grid_gap": null,
            "max_width": null,
            "order": null,
            "_view_module_version": "1.2.0",
            "grid_template_areas": null,
            "object_position": null,
            "object_fit": null,
            "grid_auto_columns": null,
            "margin": null,
            "display": null,
            "left": null
          }
        },
        "a0efcc8da56a40e3bbf974e78764dd7b": {
          "model_module": "@jupyter-widgets/controls",
          "model_name": "HBoxModel",
          "state": {
            "_view_name": "HBoxView",
            "_dom_classes": [],
            "_model_name": "HBoxModel",
            "_view_module": "@jupyter-widgets/controls",
            "_model_module_version": "1.5.0",
            "_view_count": null,
            "_view_module_version": "1.5.0",
            "box_style": "",
            "layout": "IPY_MODEL_4503e634dcec4980bcabcaa47655aec5",
            "_model_module": "@jupyter-widgets/controls",
            "children": [
              "IPY_MODEL_50320625aae04c24835938ce9bd5e5f0",
              "IPY_MODEL_3f7022cd84624687aaf0077b88ac05d3"
            ]
          }
        },
        "4503e634dcec4980bcabcaa47655aec5": {
          "model_module": "@jupyter-widgets/base",
          "model_name": "LayoutModel",
          "state": {
            "_view_name": "LayoutView",
            "grid_template_rows": null,
            "right": null,
            "justify_content": null,
            "_view_module": "@jupyter-widgets/base",
            "overflow": null,
            "_model_module_version": "1.2.0",
            "_view_count": null,
            "flex_flow": null,
            "width": null,
            "min_width": null,
            "border": null,
            "align_items": null,
            "bottom": null,
            "_model_module": "@jupyter-widgets/base",
            "top": null,
            "grid_column": null,
            "overflow_y": null,
            "overflow_x": null,
            "grid_auto_flow": null,
            "grid_area": null,
            "grid_template_columns": null,
            "flex": null,
            "_model_name": "LayoutModel",
            "justify_items": null,
            "grid_row": null,
            "max_height": null,
            "align_content": null,
            "visibility": null,
            "align_self": null,
            "height": null,
            "min_height": null,
            "padding": null,
            "grid_auto_rows": null,
            "grid_gap": null,
            "max_width": null,
            "order": null,
            "_view_module_version": "1.2.0",
            "grid_template_areas": null,
            "object_position": null,
            "object_fit": null,
            "grid_auto_columns": null,
            "margin": null,
            "display": null,
            "left": null
          }
        },
        "50320625aae04c24835938ce9bd5e5f0": {
          "model_module": "@jupyter-widgets/controls",
          "model_name": "FloatProgressModel",
          "state": {
            "_view_name": "ProgressView",
            "style": "IPY_MODEL_587259c071554789af5b1890eba22ab2",
            "_dom_classes": [],
            "description": "Downloading: 100%",
            "_model_name": "FloatProgressModel",
            "bar_style": "success",
            "max": 926,
            "_view_module": "@jupyter-widgets/controls",
            "_model_module_version": "1.5.0",
            "value": 926,
            "_view_count": null,
            "_view_module_version": "1.5.0",
            "orientation": "horizontal",
            "min": 0,
            "description_tooltip": null,
            "_model_module": "@jupyter-widgets/controls",
            "layout": "IPY_MODEL_4bb4e9601e5646bfb902569b5f8b6f6f"
          }
        },
        "3f7022cd84624687aaf0077b88ac05d3": {
          "model_module": "@jupyter-widgets/controls",
          "model_name": "HTMLModel",
          "state": {
            "_view_name": "HTMLView",
            "style": "IPY_MODEL_b340a1ecc95a45cb873946a146b0fd2b",
            "_dom_classes": [],
            "description": "",
            "_model_name": "HTMLModel",
            "placeholder": "​",
            "_view_module": "@jupyter-widgets/controls",
            "_model_module_version": "1.5.0",
            "value": " 926/926 [00:50&lt;00:00, 18.4B/s]",
            "_view_count": null,
            "_view_module_version": "1.5.0",
            "description_tooltip": null,
            "_model_module": "@jupyter-widgets/controls",
            "layout": "IPY_MODEL_30ead7d38d524feb9cffbc75f512f9b2"
          }
        },
        "587259c071554789af5b1890eba22ab2": {
          "model_module": "@jupyter-widgets/controls",
          "model_name": "ProgressStyleModel",
          "state": {
            "_view_name": "StyleView",
            "_model_name": "ProgressStyleModel",
            "description_width": "initial",
            "_view_module": "@jupyter-widgets/base",
            "_model_module_version": "1.5.0",
            "_view_count": null,
            "_view_module_version": "1.2.0",
            "bar_color": null,
            "_model_module": "@jupyter-widgets/controls"
          }
        },
        "4bb4e9601e5646bfb902569b5f8b6f6f": {
          "model_module": "@jupyter-widgets/base",
          "model_name": "LayoutModel",
          "state": {
            "_view_name": "LayoutView",
            "grid_template_rows": null,
            "right": null,
            "justify_content": null,
            "_view_module": "@jupyter-widgets/base",
            "overflow": null,
            "_model_module_version": "1.2.0",
            "_view_count": null,
            "flex_flow": null,
            "width": null,
            "min_width": null,
            "border": null,
            "align_items": null,
            "bottom": null,
            "_model_module": "@jupyter-widgets/base",
            "top": null,
            "grid_column": null,
            "overflow_y": null,
            "overflow_x": null,
            "grid_auto_flow": null,
            "grid_area": null,
            "grid_template_columns": null,
            "flex": null,
            "_model_name": "LayoutModel",
            "justify_items": null,
            "grid_row": null,
            "max_height": null,
            "align_content": null,
            "visibility": null,
            "align_self": null,
            "height": null,
            "min_height": null,
            "padding": null,
            "grid_auto_rows": null,
            "grid_gap": null,
            "max_width": null,
            "order": null,
            "_view_module_version": "1.2.0",
            "grid_template_areas": null,
            "object_position": null,
            "object_fit": null,
            "grid_auto_columns": null,
            "margin": null,
            "display": null,
            "left": null
          }
        },
        "b340a1ecc95a45cb873946a146b0fd2b": {
          "model_module": "@jupyter-widgets/controls",
          "model_name": "DescriptionStyleModel",
          "state": {
            "_view_name": "StyleView",
            "_model_name": "DescriptionStyleModel",
            "description_width": "",
            "_view_module": "@jupyter-widgets/base",
            "_model_module_version": "1.5.0",
            "_view_count": null,
            "_view_module_version": "1.2.0",
            "_model_module": "@jupyter-widgets/controls"
          }
        },
        "30ead7d38d524feb9cffbc75f512f9b2": {
          "model_module": "@jupyter-widgets/base",
          "model_name": "LayoutModel",
          "state": {
            "_view_name": "LayoutView",
            "grid_template_rows": null,
            "right": null,
            "justify_content": null,
            "_view_module": "@jupyter-widgets/base",
            "overflow": null,
            "_model_module_version": "1.2.0",
            "_view_count": null,
            "flex_flow": null,
            "width": null,
            "min_width": null,
            "border": null,
            "align_items": null,
            "bottom": null,
            "_model_module": "@jupyter-widgets/base",
            "top": null,
            "grid_column": null,
            "overflow_y": null,
            "overflow_x": null,
            "grid_auto_flow": null,
            "grid_area": null,
            "grid_template_columns": null,
            "flex": null,
            "_model_name": "LayoutModel",
            "justify_items": null,
            "grid_row": null,
            "max_height": null,
            "align_content": null,
            "visibility": null,
            "align_self": null,
            "height": null,
            "min_height": null,
            "padding": null,
            "grid_auto_rows": null,
            "grid_gap": null,
            "max_width": null,
            "order": null,
            "_view_module_version": "1.2.0",
            "grid_template_areas": null,
            "object_position": null,
            "object_fit": null,
            "grid_auto_columns": null,
            "margin": null,
            "display": null,
            "left": null
          }
        },
        "2fd06975f7c349c093b9ef515b8dd1dd": {
          "model_module": "@jupyter-widgets/controls",
          "model_name": "HBoxModel",
          "state": {
            "_view_name": "HBoxView",
            "_dom_classes": [],
            "_model_name": "HBoxModel",
            "_view_module": "@jupyter-widgets/controls",
            "_model_module_version": "1.5.0",
            "_view_count": null,
            "_view_module_version": "1.5.0",
            "box_style": "",
            "layout": "IPY_MODEL_215017a1534e4830b1528d37ba6f84c8",
            "_model_module": "@jupyter-widgets/controls",
            "children": [
              "IPY_MODEL_b671f0da32e84af2a94a86c826ad657a",
              "IPY_MODEL_fd07266b29144cd7ad7b57cc82d5fe53"
            ]
          }
        },
        "215017a1534e4830b1528d37ba6f84c8": {
          "model_module": "@jupyter-widgets/base",
          "model_name": "LayoutModel",
          "state": {
            "_view_name": "LayoutView",
            "grid_template_rows": null,
            "right": null,
            "justify_content": null,
            "_view_module": "@jupyter-widgets/base",
            "overflow": null,
            "_model_module_version": "1.2.0",
            "_view_count": null,
            "flex_flow": null,
            "width": null,
            "min_width": null,
            "border": null,
            "align_items": null,
            "bottom": null,
            "_model_module": "@jupyter-widgets/base",
            "top": null,
            "grid_column": null,
            "overflow_y": null,
            "overflow_x": null,
            "grid_auto_flow": null,
            "grid_area": null,
            "grid_template_columns": null,
            "flex": null,
            "_model_name": "LayoutModel",
            "justify_items": null,
            "grid_row": null,
            "max_height": null,
            "align_content": null,
            "visibility": null,
            "align_self": null,
            "height": null,
            "min_height": null,
            "padding": null,
            "grid_auto_rows": null,
            "grid_gap": null,
            "max_width": null,
            "order": null,
            "_view_module_version": "1.2.0",
            "grid_template_areas": null,
            "object_position": null,
            "object_fit": null,
            "grid_auto_columns": null,
            "margin": null,
            "display": null,
            "left": null
          }
        },
        "b671f0da32e84af2a94a86c826ad657a": {
          "model_module": "@jupyter-widgets/controls",
          "model_name": "FloatProgressModel",
          "state": {
            "_view_name": "ProgressView",
            "style": "IPY_MODEL_ba038bf7572c4342a4a53ee498980b88",
            "_dom_classes": [],
            "description": "Downloading: 100%",
            "_model_name": "FloatProgressModel",
            "bar_style": "success",
            "max": 248477,
            "_view_module": "@jupyter-widgets/controls",
            "_model_module_version": "1.5.0",
            "value": 248477,
            "_view_count": null,
            "_view_module_version": "1.5.0",
            "orientation": "horizontal",
            "min": 0,
            "description_tooltip": null,
            "_model_module": "@jupyter-widgets/controls",
            "layout": "IPY_MODEL_52fef33575f3412dbe7d43831e47e3a2"
          }
        },
        "fd07266b29144cd7ad7b57cc82d5fe53": {
          "model_module": "@jupyter-widgets/controls",
          "model_name": "HTMLModel",
          "state": {
            "_view_name": "HTMLView",
            "style": "IPY_MODEL_5ced3bbe551d4c0bba7a9dd319929eac",
            "_dom_classes": [],
            "description": "",
            "_model_name": "HTMLModel",
            "placeholder": "​",
            "_view_module": "@jupyter-widgets/controls",
            "_model_module_version": "1.5.0",
            "value": " 248k/248k [00:48&lt;00:00, 5.08kB/s]",
            "_view_count": null,
            "_view_module_version": "1.5.0",
            "description_tooltip": null,
            "_model_module": "@jupyter-widgets/controls",
            "layout": "IPY_MODEL_765fbbd9548d43cd88b063f0a663d5cc"
          }
        },
        "ba038bf7572c4342a4a53ee498980b88": {
          "model_module": "@jupyter-widgets/controls",
          "model_name": "ProgressStyleModel",
          "state": {
            "_view_name": "StyleView",
            "_model_name": "ProgressStyleModel",
            "description_width": "initial",
            "_view_module": "@jupyter-widgets/base",
            "_model_module_version": "1.5.0",
            "_view_count": null,
            "_view_module_version": "1.2.0",
            "bar_color": null,
            "_model_module": "@jupyter-widgets/controls"
          }
        },
        "52fef33575f3412dbe7d43831e47e3a2": {
          "model_module": "@jupyter-widgets/base",
          "model_name": "LayoutModel",
          "state": {
            "_view_name": "LayoutView",
            "grid_template_rows": null,
            "right": null,
            "justify_content": null,
            "_view_module": "@jupyter-widgets/base",
            "overflow": null,
            "_model_module_version": "1.2.0",
            "_view_count": null,
            "flex_flow": null,
            "width": null,
            "min_width": null,
            "border": null,
            "align_items": null,
            "bottom": null,
            "_model_module": "@jupyter-widgets/base",
            "top": null,
            "grid_column": null,
            "overflow_y": null,
            "overflow_x": null,
            "grid_auto_flow": null,
            "grid_area": null,
            "grid_template_columns": null,
            "flex": null,
            "_model_name": "LayoutModel",
            "justify_items": null,
            "grid_row": null,
            "max_height": null,
            "align_content": null,
            "visibility": null,
            "align_self": null,
            "height": null,
            "min_height": null,
            "padding": null,
            "grid_auto_rows": null,
            "grid_gap": null,
            "max_width": null,
            "order": null,
            "_view_module_version": "1.2.0",
            "grid_template_areas": null,
            "object_position": null,
            "object_fit": null,
            "grid_auto_columns": null,
            "margin": null,
            "display": null,
            "left": null
          }
        },
        "5ced3bbe551d4c0bba7a9dd319929eac": {
          "model_module": "@jupyter-widgets/controls",
          "model_name": "DescriptionStyleModel",
          "state": {
            "_view_name": "StyleView",
            "_model_name": "DescriptionStyleModel",
            "description_width": "",
            "_view_module": "@jupyter-widgets/base",
            "_model_module_version": "1.5.0",
            "_view_count": null,
            "_view_module_version": "1.2.0",
            "_model_module": "@jupyter-widgets/controls"
          }
        },
        "765fbbd9548d43cd88b063f0a663d5cc": {
          "model_module": "@jupyter-widgets/base",
          "model_name": "LayoutModel",
          "state": {
            "_view_name": "LayoutView",
            "grid_template_rows": null,
            "right": null,
            "justify_content": null,
            "_view_module": "@jupyter-widgets/base",
            "overflow": null,
            "_model_module_version": "1.2.0",
            "_view_count": null,
            "flex_flow": null,
            "width": null,
            "min_width": null,
            "border": null,
            "align_items": null,
            "bottom": null,
            "_model_module": "@jupyter-widgets/base",
            "top": null,
            "grid_column": null,
            "overflow_y": null,
            "overflow_x": null,
            "grid_auto_flow": null,
            "grid_area": null,
            "grid_template_columns": null,
            "flex": null,
            "_model_name": "LayoutModel",
            "justify_items": null,
            "grid_row": null,
            "max_height": null,
            "align_content": null,
            "visibility": null,
            "align_self": null,
            "height": null,
            "min_height": null,
            "padding": null,
            "grid_auto_rows": null,
            "grid_gap": null,
            "max_width": null,
            "order": null,
            "_view_module_version": "1.2.0",
            "grid_template_areas": null,
            "object_position": null,
            "object_fit": null,
            "grid_auto_columns": null,
            "margin": null,
            "display": null,
            "left": null
          }
        },
        "a946b26c4e394f8c96f358eec6d2a505": {
          "model_module": "@jupyter-widgets/controls",
          "model_name": "HBoxModel",
          "state": {
            "_view_name": "HBoxView",
            "_dom_classes": [],
            "_model_name": "HBoxModel",
            "_view_module": "@jupyter-widgets/controls",
            "_model_module_version": "1.5.0",
            "_view_count": null,
            "_view_module_version": "1.5.0",
            "box_style": "",
            "layout": "IPY_MODEL_dc94316b763f4081b6c38a4e70d858fc",
            "_model_module": "@jupyter-widgets/controls",
            "children": [
              "IPY_MODEL_58c64a9cf2564e2fbaad502c79c6b92f",
              "IPY_MODEL_ca5c82eed4f349fabbcde444b8fc448c"
            ]
          }
        },
        "dc94316b763f4081b6c38a4e70d858fc": {
          "model_module": "@jupyter-widgets/base",
          "model_name": "LayoutModel",
          "state": {
            "_view_name": "LayoutView",
            "grid_template_rows": null,
            "right": null,
            "justify_content": null,
            "_view_module": "@jupyter-widgets/base",
            "overflow": null,
            "_model_module_version": "1.2.0",
            "_view_count": null,
            "flex_flow": null,
            "width": null,
            "min_width": null,
            "border": null,
            "align_items": null,
            "bottom": null,
            "_model_module": "@jupyter-widgets/base",
            "top": null,
            "grid_column": null,
            "overflow_y": null,
            "overflow_x": null,
            "grid_auto_flow": null,
            "grid_area": null,
            "grid_template_columns": null,
            "flex": null,
            "_model_name": "LayoutModel",
            "justify_items": null,
            "grid_row": null,
            "max_height": null,
            "align_content": null,
            "visibility": null,
            "align_self": null,
            "height": null,
            "min_height": null,
            "padding": null,
            "grid_auto_rows": null,
            "grid_gap": null,
            "max_width": null,
            "order": null,
            "_view_module_version": "1.2.0",
            "grid_template_areas": null,
            "object_position": null,
            "object_fit": null,
            "grid_auto_columns": null,
            "margin": null,
            "display": null,
            "left": null
          }
        },
        "58c64a9cf2564e2fbaad502c79c6b92f": {
          "model_module": "@jupyter-widgets/controls",
          "model_name": "FloatProgressModel",
          "state": {
            "_view_name": "ProgressView",
            "style": "IPY_MODEL_85ee3a9f5bc3419d8a2500e15d8ab8ec",
            "_dom_classes": [],
            "description": "Downloading: 100%",
            "_model_name": "FloatProgressModel",
            "bar_style": "success",
            "max": 494860,
            "_view_module": "@jupyter-widgets/controls",
            "_model_module_version": "1.5.0",
            "value": 494860,
            "_view_count": null,
            "_view_module_version": "1.5.0",
            "orientation": "horizontal",
            "min": 0,
            "description_tooltip": null,
            "_model_module": "@jupyter-widgets/controls",
            "layout": "IPY_MODEL_847632c9d61c4b6cb0db6162b3a45a53"
          }
        },
        "ca5c82eed4f349fabbcde444b8fc448c": {
          "model_module": "@jupyter-widgets/controls",
          "model_name": "HTMLModel",
          "state": {
            "_view_name": "HTMLView",
            "style": "IPY_MODEL_bac3a494440b42d8aec03c1cdc55a924",
            "_dom_classes": [],
            "description": "",
            "_model_name": "HTMLModel",
            "placeholder": "​",
            "_view_module": "@jupyter-widgets/controls",
            "_model_module_version": "1.5.0",
            "value": " 495k/495k [00:04&lt;00:00, 110kB/s]",
            "_view_count": null,
            "_view_module_version": "1.5.0",
            "description_tooltip": null,
            "_model_module": "@jupyter-widgets/controls",
            "layout": "IPY_MODEL_49f98f2abdb34449b3b309360bf81857"
          }
        },
        "85ee3a9f5bc3419d8a2500e15d8ab8ec": {
          "model_module": "@jupyter-widgets/controls",
          "model_name": "ProgressStyleModel",
          "state": {
            "_view_name": "StyleView",
            "_model_name": "ProgressStyleModel",
            "description_width": "initial",
            "_view_module": "@jupyter-widgets/base",
            "_model_module_version": "1.5.0",
            "_view_count": null,
            "_view_module_version": "1.2.0",
            "bar_color": null,
            "_model_module": "@jupyter-widgets/controls"
          }
        },
        "847632c9d61c4b6cb0db6162b3a45a53": {
          "model_module": "@jupyter-widgets/base",
          "model_name": "LayoutModel",
          "state": {
            "_view_name": "LayoutView",
            "grid_template_rows": null,
            "right": null,
            "justify_content": null,
            "_view_module": "@jupyter-widgets/base",
            "overflow": null,
            "_model_module_version": "1.2.0",
            "_view_count": null,
            "flex_flow": null,
            "width": null,
            "min_width": null,
            "border": null,
            "align_items": null,
            "bottom": null,
            "_model_module": "@jupyter-widgets/base",
            "top": null,
            "grid_column": null,
            "overflow_y": null,
            "overflow_x": null,
            "grid_auto_flow": null,
            "grid_area": null,
            "grid_template_columns": null,
            "flex": null,
            "_model_name": "LayoutModel",
            "justify_items": null,
            "grid_row": null,
            "max_height": null,
            "align_content": null,
            "visibility": null,
            "align_self": null,
            "height": null,
            "min_height": null,
            "padding": null,
            "grid_auto_rows": null,
            "grid_gap": null,
            "max_width": null,
            "order": null,
            "_view_module_version": "1.2.0",
            "grid_template_areas": null,
            "object_position": null,
            "object_fit": null,
            "grid_auto_columns": null,
            "margin": null,
            "display": null,
            "left": null
          }
        },
        "bac3a494440b42d8aec03c1cdc55a924": {
          "model_module": "@jupyter-widgets/controls",
          "model_name": "DescriptionStyleModel",
          "state": {
            "_view_name": "StyleView",
            "_model_name": "DescriptionStyleModel",
            "description_width": "",
            "_view_module": "@jupyter-widgets/base",
            "_model_module_version": "1.5.0",
            "_view_count": null,
            "_view_module_version": "1.2.0",
            "_model_module": "@jupyter-widgets/controls"
          }
        },
        "49f98f2abdb34449b3b309360bf81857": {
          "model_module": "@jupyter-widgets/base",
          "model_name": "LayoutModel",
          "state": {
            "_view_name": "LayoutView",
            "grid_template_rows": null,
            "right": null,
            "justify_content": null,
            "_view_module": "@jupyter-widgets/base",
            "overflow": null,
            "_model_module_version": "1.2.0",
            "_view_count": null,
            "flex_flow": null,
            "width": null,
            "min_width": null,
            "border": null,
            "align_items": null,
            "bottom": null,
            "_model_module": "@jupyter-widgets/base",
            "top": null,
            "grid_column": null,
            "overflow_y": null,
            "overflow_x": null,
            "grid_auto_flow": null,
            "grid_area": null,
            "grid_template_columns": null,
            "flex": null,
            "_model_name": "LayoutModel",
            "justify_items": null,
            "grid_row": null,
            "max_height": null,
            "align_content": null,
            "visibility": null,
            "align_self": null,
            "height": null,
            "min_height": null,
            "padding": null,
            "grid_auto_rows": null,
            "grid_gap": null,
            "max_width": null,
            "order": null,
            "_view_module_version": "1.2.0",
            "grid_template_areas": null,
            "object_position": null,
            "object_fit": null,
            "grid_auto_columns": null,
            "margin": null,
            "display": null,
            "left": null
          }
        },
        "146b08951831451c88578f174264d05d": {
          "model_module": "@jupyter-widgets/controls",
          "model_name": "HBoxModel",
          "state": {
            "_view_name": "HBoxView",
            "_dom_classes": [],
            "_model_name": "HBoxModel",
            "_view_module": "@jupyter-widgets/controls",
            "_model_module_version": "1.5.0",
            "_view_count": null,
            "_view_module_version": "1.5.0",
            "box_style": "",
            "layout": "IPY_MODEL_ca6ad25f8a024b9facbe7208a6f68aa1",
            "_model_module": "@jupyter-widgets/controls",
            "children": [
              "IPY_MODEL_5577fcdd70254b15801e04bf15a0583a",
              "IPY_MODEL_53f15d0ca7e24e878ca9e7897540357a"
            ]
          }
        },
        "ca6ad25f8a024b9facbe7208a6f68aa1": {
          "model_module": "@jupyter-widgets/base",
          "model_name": "LayoutModel",
          "state": {
            "_view_name": "LayoutView",
            "grid_template_rows": null,
            "right": null,
            "justify_content": null,
            "_view_module": "@jupyter-widgets/base",
            "overflow": null,
            "_model_module_version": "1.2.0",
            "_view_count": null,
            "flex_flow": null,
            "width": null,
            "min_width": null,
            "border": null,
            "align_items": null,
            "bottom": null,
            "_model_module": "@jupyter-widgets/base",
            "top": null,
            "grid_column": null,
            "overflow_y": null,
            "overflow_x": null,
            "grid_auto_flow": null,
            "grid_area": null,
            "grid_template_columns": null,
            "flex": null,
            "_model_name": "LayoutModel",
            "justify_items": null,
            "grid_row": null,
            "max_height": null,
            "align_content": null,
            "visibility": null,
            "align_self": null,
            "height": null,
            "min_height": null,
            "padding": null,
            "grid_auto_rows": null,
            "grid_gap": null,
            "max_width": null,
            "order": null,
            "_view_module_version": "1.2.0",
            "grid_template_areas": null,
            "object_position": null,
            "object_fit": null,
            "grid_auto_columns": null,
            "margin": null,
            "display": null,
            "left": null
          }
        },
        "5577fcdd70254b15801e04bf15a0583a": {
          "model_module": "@jupyter-widgets/controls",
          "model_name": "FloatProgressModel",
          "state": {
            "_view_name": "ProgressView",
            "style": "IPY_MODEL_0bb681759c56427383503b29c1a27726",
            "_dom_classes": [],
            "description": "Downloading: 100%",
            "_model_name": "FloatProgressModel",
            "bar_style": "success",
            "max": 112,
            "_view_module": "@jupyter-widgets/controls",
            "_model_module_version": "1.5.0",
            "value": 112,
            "_view_count": null,
            "_view_module_version": "1.5.0",
            "orientation": "horizontal",
            "min": 0,
            "description_tooltip": null,
            "_model_module": "@jupyter-widgets/controls",
            "layout": "IPY_MODEL_df0bbf438c164d6cb05cd2ee693271b5"
          }
        },
        "53f15d0ca7e24e878ca9e7897540357a": {
          "model_module": "@jupyter-widgets/controls",
          "model_name": "HTMLModel",
          "state": {
            "_view_name": "HTMLView",
            "style": "IPY_MODEL_cf8aff719f6f402d9a2e2553a80afbff",
            "_dom_classes": [],
            "description": "",
            "_model_name": "HTMLModel",
            "placeholder": "​",
            "_view_module": "@jupyter-widgets/controls",
            "_model_module_version": "1.5.0",
            "value": " 112/112 [00:01&lt;00:00, 73.3B/s]",
            "_view_count": null,
            "_view_module_version": "1.5.0",
            "description_tooltip": null,
            "_model_module": "@jupyter-widgets/controls",
            "layout": "IPY_MODEL_af3743123fbd4435b7f9a8692e0d48f3"
          }
        },
        "0bb681759c56427383503b29c1a27726": {
          "model_module": "@jupyter-widgets/controls",
          "model_name": "ProgressStyleModel",
          "state": {
            "_view_name": "StyleView",
            "_model_name": "ProgressStyleModel",
            "description_width": "initial",
            "_view_module": "@jupyter-widgets/base",
            "_model_module_version": "1.5.0",
            "_view_count": null,
            "_view_module_version": "1.2.0",
            "bar_color": null,
            "_model_module": "@jupyter-widgets/controls"
          }
        },
        "df0bbf438c164d6cb05cd2ee693271b5": {
          "model_module": "@jupyter-widgets/base",
          "model_name": "LayoutModel",
          "state": {
            "_view_name": "LayoutView",
            "grid_template_rows": null,
            "right": null,
            "justify_content": null,
            "_view_module": "@jupyter-widgets/base",
            "overflow": null,
            "_model_module_version": "1.2.0",
            "_view_count": null,
            "flex_flow": null,
            "width": null,
            "min_width": null,
            "border": null,
            "align_items": null,
            "bottom": null,
            "_model_module": "@jupyter-widgets/base",
            "top": null,
            "grid_column": null,
            "overflow_y": null,
            "overflow_x": null,
            "grid_auto_flow": null,
            "grid_area": null,
            "grid_template_columns": null,
            "flex": null,
            "_model_name": "LayoutModel",
            "justify_items": null,
            "grid_row": null,
            "max_height": null,
            "align_content": null,
            "visibility": null,
            "align_self": null,
            "height": null,
            "min_height": null,
            "padding": null,
            "grid_auto_rows": null,
            "grid_gap": null,
            "max_width": null,
            "order": null,
            "_view_module_version": "1.2.0",
            "grid_template_areas": null,
            "object_position": null,
            "object_fit": null,
            "grid_auto_columns": null,
            "margin": null,
            "display": null,
            "left": null
          }
        },
        "cf8aff719f6f402d9a2e2553a80afbff": {
          "model_module": "@jupyter-widgets/controls",
          "model_name": "DescriptionStyleModel",
          "state": {
            "_view_name": "StyleView",
            "_model_name": "DescriptionStyleModel",
            "description_width": "",
            "_view_module": "@jupyter-widgets/base",
            "_model_module_version": "1.5.0",
            "_view_count": null,
            "_view_module_version": "1.2.0",
            "_model_module": "@jupyter-widgets/controls"
          }
        },
        "af3743123fbd4435b7f9a8692e0d48f3": {
          "model_module": "@jupyter-widgets/base",
          "model_name": "LayoutModel",
          "state": {
            "_view_name": "LayoutView",
            "grid_template_rows": null,
            "right": null,
            "justify_content": null,
            "_view_module": "@jupyter-widgets/base",
            "overflow": null,
            "_model_module_version": "1.2.0",
            "_view_count": null,
            "flex_flow": null,
            "width": null,
            "min_width": null,
            "border": null,
            "align_items": null,
            "bottom": null,
            "_model_module": "@jupyter-widgets/base",
            "top": null,
            "grid_column": null,
            "overflow_y": null,
            "overflow_x": null,
            "grid_auto_flow": null,
            "grid_area": null,
            "grid_template_columns": null,
            "flex": null,
            "_model_name": "LayoutModel",
            "justify_items": null,
            "grid_row": null,
            "max_height": null,
            "align_content": null,
            "visibility": null,
            "align_self": null,
            "height": null,
            "min_height": null,
            "padding": null,
            "grid_auto_rows": null,
            "grid_gap": null,
            "max_width": null,
            "order": null,
            "_view_module_version": "1.2.0",
            "grid_template_areas": null,
            "object_position": null,
            "object_fit": null,
            "grid_auto_columns": null,
            "margin": null,
            "display": null,
            "left": null
          }
        },
        "12d749d6cec843b8888c86b6ce2365f3": {
          "model_module": "@jupyter-widgets/controls",
          "model_name": "HBoxModel",
          "state": {
            "_view_name": "HBoxView",
            "_dom_classes": [],
            "_model_name": "HBoxModel",
            "_view_module": "@jupyter-widgets/controls",
            "_model_module_version": "1.5.0",
            "_view_count": null,
            "_view_module_version": "1.5.0",
            "box_style": "",
            "layout": "IPY_MODEL_6078205aad3d42c19569e0db12265ccf",
            "_model_module": "@jupyter-widgets/controls",
            "children": [
              "IPY_MODEL_343a2ac570604bfb998f2f2284dc33de",
              "IPY_MODEL_e1a031eb49ce43148689d44cdf7e7660"
            ]
          }
        },
        "6078205aad3d42c19569e0db12265ccf": {
          "model_module": "@jupyter-widgets/base",
          "model_name": "LayoutModel",
          "state": {
            "_view_name": "LayoutView",
            "grid_template_rows": null,
            "right": null,
            "justify_content": null,
            "_view_module": "@jupyter-widgets/base",
            "overflow": null,
            "_model_module_version": "1.2.0",
            "_view_count": null,
            "flex_flow": null,
            "width": null,
            "min_width": null,
            "border": null,
            "align_items": null,
            "bottom": null,
            "_model_module": "@jupyter-widgets/base",
            "top": null,
            "grid_column": null,
            "overflow_y": null,
            "overflow_x": null,
            "grid_auto_flow": null,
            "grid_area": null,
            "grid_template_columns": null,
            "flex": null,
            "_model_name": "LayoutModel",
            "justify_items": null,
            "grid_row": null,
            "max_height": null,
            "align_content": null,
            "visibility": null,
            "align_self": null,
            "height": null,
            "min_height": null,
            "padding": null,
            "grid_auto_rows": null,
            "grid_gap": null,
            "max_width": null,
            "order": null,
            "_view_module_version": "1.2.0",
            "grid_template_areas": null,
            "object_position": null,
            "object_fit": null,
            "grid_auto_columns": null,
            "margin": null,
            "display": null,
            "left": null
          }
        },
        "343a2ac570604bfb998f2f2284dc33de": {
          "model_module": "@jupyter-widgets/controls",
          "model_name": "FloatProgressModel",
          "state": {
            "_view_name": "ProgressView",
            "style": "IPY_MODEL_3ac36b0bc21340d68896f38351d83c17",
            "_dom_classes": [],
            "description": "Downloading: 100%",
            "_model_name": "FloatProgressModel",
            "bar_style": "success",
            "max": 499,
            "_view_module": "@jupyter-widgets/controls",
            "_model_module_version": "1.5.0",
            "value": 499,
            "_view_count": null,
            "_view_module_version": "1.5.0",
            "orientation": "horizontal",
            "min": 0,
            "description_tooltip": null,
            "_model_module": "@jupyter-widgets/controls",
            "layout": "IPY_MODEL_3b2ebc6d3bf94402ad14c64416591efb"
          }
        },
        "e1a031eb49ce43148689d44cdf7e7660": {
          "model_module": "@jupyter-widgets/controls",
          "model_name": "HTMLModel",
          "state": {
            "_view_name": "HTMLView",
            "style": "IPY_MODEL_e901ab3f9c704717800db7467f7f725f",
            "_dom_classes": [],
            "description": "",
            "_model_name": "HTMLModel",
            "placeholder": "​",
            "_view_module": "@jupyter-widgets/controls",
            "_model_module_version": "1.5.0",
            "value": " 499/499 [00:42&lt;00:00, 11.7B/s]",
            "_view_count": null,
            "_view_module_version": "1.5.0",
            "description_tooltip": null,
            "_model_module": "@jupyter-widgets/controls",
            "layout": "IPY_MODEL_c239a7b3a1924fb6a07bb32f58c69221"
          }
        },
        "3ac36b0bc21340d68896f38351d83c17": {
          "model_module": "@jupyter-widgets/controls",
          "model_name": "ProgressStyleModel",
          "state": {
            "_view_name": "StyleView",
            "_model_name": "ProgressStyleModel",
            "description_width": "initial",
            "_view_module": "@jupyter-widgets/base",
            "_model_module_version": "1.5.0",
            "_view_count": null,
            "_view_module_version": "1.2.0",
            "bar_color": null,
            "_model_module": "@jupyter-widgets/controls"
          }
        },
        "3b2ebc6d3bf94402ad14c64416591efb": {
          "model_module": "@jupyter-widgets/base",
          "model_name": "LayoutModel",
          "state": {
            "_view_name": "LayoutView",
            "grid_template_rows": null,
            "right": null,
            "justify_content": null,
            "_view_module": "@jupyter-widgets/base",
            "overflow": null,
            "_model_module_version": "1.2.0",
            "_view_count": null,
            "flex_flow": null,
            "width": null,
            "min_width": null,
            "border": null,
            "align_items": null,
            "bottom": null,
            "_model_module": "@jupyter-widgets/base",
            "top": null,
            "grid_column": null,
            "overflow_y": null,
            "overflow_x": null,
            "grid_auto_flow": null,
            "grid_area": null,
            "grid_template_columns": null,
            "flex": null,
            "_model_name": "LayoutModel",
            "justify_items": null,
            "grid_row": null,
            "max_height": null,
            "align_content": null,
            "visibility": null,
            "align_self": null,
            "height": null,
            "min_height": null,
            "padding": null,
            "grid_auto_rows": null,
            "grid_gap": null,
            "max_width": null,
            "order": null,
            "_view_module_version": "1.2.0",
            "grid_template_areas": null,
            "object_position": null,
            "object_fit": null,
            "grid_auto_columns": null,
            "margin": null,
            "display": null,
            "left": null
          }
        },
        "e901ab3f9c704717800db7467f7f725f": {
          "model_module": "@jupyter-widgets/controls",
          "model_name": "DescriptionStyleModel",
          "state": {
            "_view_name": "StyleView",
            "_model_name": "DescriptionStyleModel",
            "description_width": "",
            "_view_module": "@jupyter-widgets/base",
            "_model_module_version": "1.5.0",
            "_view_count": null,
            "_view_module_version": "1.2.0",
            "_model_module": "@jupyter-widgets/controls"
          }
        },
        "c239a7b3a1924fb6a07bb32f58c69221": {
          "model_module": "@jupyter-widgets/base",
          "model_name": "LayoutModel",
          "state": {
            "_view_name": "LayoutView",
            "grid_template_rows": null,
            "right": null,
            "justify_content": null,
            "_view_module": "@jupyter-widgets/base",
            "overflow": null,
            "_model_module_version": "1.2.0",
            "_view_count": null,
            "flex_flow": null,
            "width": null,
            "min_width": null,
            "border": null,
            "align_items": null,
            "bottom": null,
            "_model_module": "@jupyter-widgets/base",
            "top": null,
            "grid_column": null,
            "overflow_y": null,
            "overflow_x": null,
            "grid_auto_flow": null,
            "grid_area": null,
            "grid_template_columns": null,
            "flex": null,
            "_model_name": "LayoutModel",
            "justify_items": null,
            "grid_row": null,
            "max_height": null,
            "align_content": null,
            "visibility": null,
            "align_self": null,
            "height": null,
            "min_height": null,
            "padding": null,
            "grid_auto_rows": null,
            "grid_gap": null,
            "max_width": null,
            "order": null,
            "_view_module_version": "1.2.0",
            "grid_template_areas": null,
            "object_position": null,
            "object_fit": null,
            "grid_auto_columns": null,
            "margin": null,
            "display": null,
            "left": null
          }
        },
        "5fc3a5c8f422445da8c9cae10c47ea67": {
          "model_module": "@jupyter-widgets/controls",
          "model_name": "HBoxModel",
          "state": {
            "_view_name": "HBoxView",
            "_dom_classes": [],
            "_model_name": "HBoxModel",
            "_view_module": "@jupyter-widgets/controls",
            "_model_module_version": "1.5.0",
            "_view_count": null,
            "_view_module_version": "1.5.0",
            "box_style": "",
            "layout": "IPY_MODEL_ba854ac61d2a413c9a0a7d8adb7a71a6",
            "_model_module": "@jupyter-widgets/controls",
            "children": [
              "IPY_MODEL_ad711fe372aa4e8e876ffd41caadf34d",
              "IPY_MODEL_b03b45f5e067407280146bf5353a12a0"
            ]
          }
        },
        "ba854ac61d2a413c9a0a7d8adb7a71a6": {
          "model_module": "@jupyter-widgets/base",
          "model_name": "LayoutModel",
          "state": {
            "_view_name": "LayoutView",
            "grid_template_rows": null,
            "right": null,
            "justify_content": null,
            "_view_module": "@jupyter-widgets/base",
            "overflow": null,
            "_model_module_version": "1.2.0",
            "_view_count": null,
            "flex_flow": null,
            "width": null,
            "min_width": null,
            "border": null,
            "align_items": null,
            "bottom": null,
            "_model_module": "@jupyter-widgets/base",
            "top": null,
            "grid_column": null,
            "overflow_y": null,
            "overflow_x": null,
            "grid_auto_flow": null,
            "grid_area": null,
            "grid_template_columns": null,
            "flex": null,
            "_model_name": "LayoutModel",
            "justify_items": null,
            "grid_row": null,
            "max_height": null,
            "align_content": null,
            "visibility": null,
            "align_self": null,
            "height": null,
            "min_height": null,
            "padding": null,
            "grid_auto_rows": null,
            "grid_gap": null,
            "max_width": null,
            "order": null,
            "_view_module_version": "1.2.0",
            "grid_template_areas": null,
            "object_position": null,
            "object_fit": null,
            "grid_auto_columns": null,
            "margin": null,
            "display": null,
            "left": null
          }
        },
        "ad711fe372aa4e8e876ffd41caadf34d": {
          "model_module": "@jupyter-widgets/controls",
          "model_name": "FloatProgressModel",
          "state": {
            "_view_name": "ProgressView",
            "style": "IPY_MODEL_41f69da446fa498f8e6f660a706cf05e",
            "_dom_classes": [],
            "description": "Downloading: 100%",
            "_model_name": "FloatProgressModel",
            "bar_style": "success",
            "max": 442560877,
            "_view_module": "@jupyter-widgets/controls",
            "_model_module_version": "1.5.0",
            "value": 442560877,
            "_view_count": null,
            "_view_module_version": "1.5.0",
            "orientation": "horizontal",
            "min": 0,
            "description_tooltip": null,
            "_model_module": "@jupyter-widgets/controls",
            "layout": "IPY_MODEL_816f4b584efb499fa057f85a4eeab662"
          }
        },
        "b03b45f5e067407280146bf5353a12a0": {
          "model_module": "@jupyter-widgets/controls",
          "model_name": "HTMLModel",
          "state": {
            "_view_name": "HTMLView",
            "style": "IPY_MODEL_433b7cebf73c495f8e89423e3f8e12c7",
            "_dom_classes": [],
            "description": "",
            "_model_name": "HTMLModel",
            "placeholder": "​",
            "_view_module": "@jupyter-widgets/controls",
            "_model_module_version": "1.5.0",
            "value": " 443M/443M [00:37&lt;00:00, 11.8MB/s]",
            "_view_count": null,
            "_view_module_version": "1.5.0",
            "description_tooltip": null,
            "_model_module": "@jupyter-widgets/controls",
            "layout": "IPY_MODEL_423992b7a2a146868aedbdb49332351c"
          }
        },
        "41f69da446fa498f8e6f660a706cf05e": {
          "model_module": "@jupyter-widgets/controls",
          "model_name": "ProgressStyleModel",
          "state": {
            "_view_name": "StyleView",
            "_model_name": "ProgressStyleModel",
            "description_width": "initial",
            "_view_module": "@jupyter-widgets/base",
            "_model_module_version": "1.5.0",
            "_view_count": null,
            "_view_module_version": "1.2.0",
            "bar_color": null,
            "_model_module": "@jupyter-widgets/controls"
          }
        },
        "816f4b584efb499fa057f85a4eeab662": {
          "model_module": "@jupyter-widgets/base",
          "model_name": "LayoutModel",
          "state": {
            "_view_name": "LayoutView",
            "grid_template_rows": null,
            "right": null,
            "justify_content": null,
            "_view_module": "@jupyter-widgets/base",
            "overflow": null,
            "_model_module_version": "1.2.0",
            "_view_count": null,
            "flex_flow": null,
            "width": null,
            "min_width": null,
            "border": null,
            "align_items": null,
            "bottom": null,
            "_model_module": "@jupyter-widgets/base",
            "top": null,
            "grid_column": null,
            "overflow_y": null,
            "overflow_x": null,
            "grid_auto_flow": null,
            "grid_area": null,
            "grid_template_columns": null,
            "flex": null,
            "_model_name": "LayoutModel",
            "justify_items": null,
            "grid_row": null,
            "max_height": null,
            "align_content": null,
            "visibility": null,
            "align_self": null,
            "height": null,
            "min_height": null,
            "padding": null,
            "grid_auto_rows": null,
            "grid_gap": null,
            "max_width": null,
            "order": null,
            "_view_module_version": "1.2.0",
            "grid_template_areas": null,
            "object_position": null,
            "object_fit": null,
            "grid_auto_columns": null,
            "margin": null,
            "display": null,
            "left": null
          }
        },
        "433b7cebf73c495f8e89423e3f8e12c7": {
          "model_module": "@jupyter-widgets/controls",
          "model_name": "DescriptionStyleModel",
          "state": {
            "_view_name": "StyleView",
            "_model_name": "DescriptionStyleModel",
            "description_width": "",
            "_view_module": "@jupyter-widgets/base",
            "_model_module_version": "1.5.0",
            "_view_count": null,
            "_view_module_version": "1.2.0",
            "_model_module": "@jupyter-widgets/controls"
          }
        },
        "423992b7a2a146868aedbdb49332351c": {
          "model_module": "@jupyter-widgets/base",
          "model_name": "LayoutModel",
          "state": {
            "_view_name": "LayoutView",
            "grid_template_rows": null,
            "right": null,
            "justify_content": null,
            "_view_module": "@jupyter-widgets/base",
            "overflow": null,
            "_model_module_version": "1.2.0",
            "_view_count": null,
            "flex_flow": null,
            "width": null,
            "min_width": null,
            "border": null,
            "align_items": null,
            "bottom": null,
            "_model_module": "@jupyter-widgets/base",
            "top": null,
            "grid_column": null,
            "overflow_y": null,
            "overflow_x": null,
            "grid_auto_flow": null,
            "grid_area": null,
            "grid_template_columns": null,
            "flex": null,
            "_model_name": "LayoutModel",
            "justify_items": null,
            "grid_row": null,
            "max_height": null,
            "align_content": null,
            "visibility": null,
            "align_self": null,
            "height": null,
            "min_height": null,
            "padding": null,
            "grid_auto_rows": null,
            "grid_gap": null,
            "max_width": null,
            "order": null,
            "_view_module_version": "1.2.0",
            "grid_template_areas": null,
            "object_position": null,
            "object_fit": null,
            "grid_auto_columns": null,
            "margin": null,
            "display": null,
            "left": null
          }
        }
      }
    }
  },
  "cells": [
    {
      "cell_type": "markdown",
      "metadata": {
        "id": "S-FHt0OyQP6L"
      },
      "source": [
        "# HuggingFace Transformers `Pipeline`을 활용한 **Zero-shot Classification**"
      ],
      "id": "S-FHt0OyQP6L"
    },
    {
      "cell_type": "markdown",
      "metadata": {
        "id": "UAJCZlDiQzU_"
      },
      "source": [
        "자연어 처리 태스크를 수행하기 위해 많은 학습 데이터가 있으면 좋은 것은 사실입니다. 하지만 실제 환경에서 다양한 라벨링 데이터를 확보하는 것은 어려운 일이며, [GPT-3](https://arxiv.org/abs/2005.14165)는 거대 규모로 학습된 언어 모델은 라벨링 데이터를 (거의) 사용하지 않고도 태스크를 수행할 수 있음을 보여주었습니다.\n",
        "\n",
        "그렇다면 Few or Zero-shot 예측은 *GPT-3* 와 같은 모델을 활용해야만 가능한 작업일까요? 얼마만큼의 성능을 원하는지에 따라 다를 수 있겠지만, 결론은 \"꼭 그렇지는 않다\"입니다.\n",
        "\n",
        "**Natural Language Inference** (이하 NLI)는 두 문장이 논리적으로 수반될 수 있는지 (`entail`), 상충하는지 (`contradict`) 혹은 논리적 관계가 딱히 존재하지 않는지 (`neutral`)를 판단하는 태스크입니다. 우리는 이러한 NLI 데이터로 학습된 모델을 활용해 *Zero-shot Classification* 을 실험해볼 수도 있습니다.\n",
        "\n",
        "19년 공개된 [논문](https://arxiv.org/abs/1909.00161)에서는 아래와 같은 분류 방법을 제안합니다. 먼저 분류하고자 하는 문장을 `premise`에 작성합니다. 그리고 문장이 특정 클래스에 속하는지 알아보기 위해 `hypothesis`를 **이 문장은 {class}에 관한 것이다.**와 같이 작성해줍니다.\n",
        "\n",
        "```\n",
        "premise = \"Who are you voting for in 2020?\"\n",
        "hypothesis = \"This text is about politics.\"\n",
        "pair = f\"{premise} {sep_token} {hypothesis}\"\n",
        "```\n",
        "\n",
        "위 양식처럼 다양한 라벨에 따른 문장 페어를 작성할 수 있겠습니다. 작성된 `pair` 문장은 **NLI** 데이터로 학습된 모델에 입력되게 되고, 모델은 문장이 얼마나 `entail` 하는지에 대한 값을 반환해주게 됩니다. 즉, 모델은 입력된 문장이 특정 클래스에 속한다는 주장이 얼마나 논리적으로 부합하는지를 예측한다고 생각하시면 됩니다.\n",
        "\n",
        "실제로 이처럼 두 문장의 `entail`을 예측하도록 구현된 파이프라인을 활용하면 아래와 같이 여러 클래스에 대해 학습 데이터 없이 **NLI** 모델로 하여금 *Zero-shot Classification* 을 수행하도록 할 수 있게 됩니다.\n",
        "\n",
        "![](https://joeddav.github.io/blog/images/zsl/zsl-demo-screenshot.png)\n",
        "\n",
        "*Zero-shot Classification* 과 관련한 더 자세한 실험 내용은 [이곳](https://joeddav.github.io/blog/2020/05/29/ZSL.html)에서 확인하실 수 있습니다."
      ],
      "id": "UAJCZlDiQzU_"
    },
    {
      "cell_type": "markdown",
      "metadata": {
        "id": "QcQiyfra4Bee"
      },
      "source": [
        "이제 본격적으로 실험을 진행해보도록 하겠습니다. 본 노트북을 위해서는 `transformers`, `datasets` 라이브러리의 설치가 필요합니다."
      ],
      "id": "QcQiyfra4Bee"
    },
    {
      "cell_type": "code",
      "metadata": {
        "id": "auZXQkqMEXs0"
      },
      "source": [
        "# !pip install transformers datasets"
      ],
      "id": "auZXQkqMEXs0",
      "execution_count": null,
      "outputs": []
    },
    {
      "cell_type": "markdown",
      "metadata": {
        "id": "itX8CiSVQz4K"
      },
      "source": [
        "노트북을 실행하는데 필요한 라이브러리들을 모두 임포트합니다."
      ],
      "id": "itX8CiSVQz4K"
    },
    {
      "cell_type": "code",
      "metadata": {
        "id": "987ef3c9"
      },
      "source": [
        "import random\n",
        "from abc import ABC, abstractmethod\n",
        "from IPython.display import display, HTML\n",
        "\n",
        "import pandas as pd\n",
        "from tqdm import tqdm\n",
        "from datasets import load_dataset, ClassLabel\n",
        "from transformers import pipeline, AutoTokenizer"
      ],
      "id": "987ef3c9",
      "execution_count": null,
      "outputs": []
    },
    {
      "cell_type": "markdown",
      "metadata": {
        "id": "nGZKVTpYQ7b_"
      },
      "source": [
        "어떤 문장을 가지고 *Zero-shot Classification* 을 실험해보는 것이 좋을까요?\n",
        "\n",
        "임의의 문장과 라벨을 선정해 자유롭게 실험을 해볼 수도 있겠지만, 본 노트북에서는 실제로 *Zero-shot Classificaion* 파이프라인이 어느 정도 성능을 보일 수 있는지 정량적으로 평가해보고자 합니다.\n",
        "\n",
        "먼저, 라벨 정보가 있는 문장 분류 데이터가 필요하겠죠. 이를 위해 HuggingFace datasets 라이브러리에 등록된 KLUE 데이터셋 중, TC 데이터를 내려받습니다."
      ],
      "id": "nGZKVTpYQ7b_"
    },
    {
      "cell_type": "code",
      "metadata": {
        "colab": {
          "base_uri": "https://localhost:8080/",
          "height": 218,
          "referenced_widgets": [
            "b6556658918646e3a996917a1a3854a5",
            "53e3afd60dd14fad88ec3647205159ef",
            "73900aea37d34e43b9360083e31c0566",
            "6234789e3d3640cdb291c2b4dd76dd15",
            "c78d25adfaf945b8a81a1ebaee9ef64b",
            "b42948e0ba474fe09eba86fd4f7336ab",
            "3af220126eaa460b890a2de6f22f0a59",
            "85c3b9aab769474e88334acaa2d05f8f",
            "70afec773475408d9a92410ef42fe456",
            "4437246af2814e4580661d4242d23d78",
            "eefc615633674b03ab29d9d3a99970f0",
            "3293770c8f8b46e68b342081a85d35a6",
            "b26b45516302464a836b83b612de34f4",
            "160c8fd435d84750aae3f81edeedbd3d",
            "39e1d3873da446629a84356f2db9114e",
            "9b6b0541396c4fbd98d7e09d52d7f750",
            "40c042b81b8441eda81c87f36af10227",
            "7cff919a58c54cb8ab4e4969f18356a9",
            "a1c399b093ba48679efa455c7b8cf173",
            "839724306e854b23bb06c295a49b4aea",
            "b8c049c9ea754fe69f3ad6a573643dda",
            "46931dfa4da144baa74f6033c08ce501",
            "82018235a75b418390fcdd016b03d9be",
            "5dde839458d64e19a8fb4d3cec53c373",
            "0346f75152924bce8c86426ccb7fa9e2",
            "0257e3e545f34f2b89e3400468778e95",
            "8e6a5e3352a14e26bb24306c635a9715",
            "f22b025d32d34bc5872159f4035ec3f1",
            "f4252a9fdd384481b9fe9c1b5db3777f",
            "8422c52c656a4988b6d0e58d41dc7b40",
            "01912b8ed56345cca34aa9c8831d3a6a",
            "abe085add29a4b369770c89a34595f9c",
            "f9fd0aa1d5f442668d323d2586fce6ef",
            "ee0e2fd1afe64c169036809b59c09160",
            "22cafb226aa5417faef7f6ed96eac880",
            "c601ddd50cee4788b3a05506c22e370c",
            "b1f691424c994cafbb1aecdffb7ba8c1",
            "373f36ea90c14ef29502bc43f003b04d",
            "cd8eea9b2afa4c2b9b5d900e87dab964",
            "e59826e79880447583365947713abe11"
          ]
        },
        "id": "iYIRPPPfCFB9",
        "outputId": "587b01c8-89dc-4da9-8559-4883a25a0932"
      },
      "source": [
        "datasets = load_dataset(\"klue\", \"ynat\")"
      ],
      "id": "iYIRPPPfCFB9",
      "execution_count": null,
      "outputs": [
        {
          "output_type": "display_data",
          "data": {
            "application/vnd.jupyter.widget-view+json": {
              "model_id": "b6556658918646e3a996917a1a3854a5",
              "version_minor": 0,
              "version_major": 2
            },
            "text/plain": [
              "HBox(children=(FloatProgress(value=0.0, description='Downloading', max=5191.0, style=ProgressStyle(description…"
            ]
          },
          "metadata": {
            "tags": []
          }
        },
        {
          "output_type": "stream",
          "text": [
            "\n"
          ],
          "name": "stdout"
        },
        {
          "output_type": "display_data",
          "data": {
            "application/vnd.jupyter.widget-view+json": {
              "model_id": "70afec773475408d9a92410ef42fe456",
              "version_minor": 0,
              "version_major": 2
            },
            "text/plain": [
              "HBox(children=(FloatProgress(value=0.0, description='Downloading', max=2932.0, style=ProgressStyle(description…"
            ]
          },
          "metadata": {
            "tags": []
          }
        },
        {
          "output_type": "stream",
          "text": [
            "\n",
            "Downloading and preparing dataset klue/ynat (download: 4.70 MiB, generated: 11.59 MiB, post-processed: Unknown size, total: 16.29 MiB) to /root/.cache/huggingface/datasets/klue/ynat/1.0.0/55ff8f92b7a4b9842be6514ce0b4b5295b46d5e493f8bb5760da4be717018f90...\n"
          ],
          "name": "stdout"
        },
        {
          "output_type": "display_data",
          "data": {
            "application/vnd.jupyter.widget-view+json": {
              "model_id": "40c042b81b8441eda81c87f36af10227",
              "version_minor": 0,
              "version_major": 2
            },
            "text/plain": [
              "HBox(children=(FloatProgress(value=0.0, description='Downloading', max=4932555.0, style=ProgressStyle(descript…"
            ]
          },
          "metadata": {
            "tags": []
          }
        },
        {
          "output_type": "stream",
          "text": [
            "\n"
          ],
          "name": "stdout"
        },
        {
          "output_type": "display_data",
          "data": {
            "application/vnd.jupyter.widget-view+json": {
              "model_id": "0346f75152924bce8c86426ccb7fa9e2",
              "version_minor": 0,
              "version_major": 2
            },
            "text/plain": [
              "HBox(children=(FloatProgress(value=1.0, bar_style='info', max=1.0), HTML(value='')))"
            ]
          },
          "metadata": {
            "tags": []
          }
        },
        {
          "output_type": "stream",
          "text": [
            "\r"
          ],
          "name": "stdout"
        },
        {
          "output_type": "display_data",
          "data": {
            "application/vnd.jupyter.widget-view+json": {
              "model_id": "f9fd0aa1d5f442668d323d2586fce6ef",
              "version_minor": 0,
              "version_major": 2
            },
            "text/plain": [
              "HBox(children=(FloatProgress(value=1.0, bar_style='info', max=1.0), HTML(value='')))"
            ]
          },
          "metadata": {
            "tags": []
          }
        },
        {
          "output_type": "stream",
          "text": [
            "\rDataset klue downloaded and prepared to /root/.cache/huggingface/datasets/klue/ynat/1.0.0/55ff8f92b7a4b9842be6514ce0b4b5295b46d5e493f8bb5760da4be717018f90. Subsequent calls will reuse this data.\n"
          ],
          "name": "stdout"
        }
      ]
    },
    {
      "cell_type": "markdown",
      "metadata": {
        "id": "31wDD_97Q816"
      },
      "source": [
        "데이터셋을 전반적으로 살펴보기 위한 시각화 함수를 다음과 같이 정의합니다."
      ],
      "id": "31wDD_97Q816"
    },
    {
      "cell_type": "code",
      "metadata": {
        "id": "FI-Us8fACNhy"
      },
      "source": [
        "def show_random_elements(dataset, num_examples=10):\n",
        "    assert num_examples <= len(dataset), \"Can't pick more elements than there are in the dataset.\"\n",
        "\n",
        "    picks = []\n",
        "    \n",
        "    for _ in range(num_examples):\n",
        "        pick = random.randint(0, len(dataset)-1)\n",
        "\n",
        "        # 이미 등록된 예제가 뽑힌 경우, 다시 추출\n",
        "        while pick in picks:\n",
        "            pick = random.randint(0, len(dataset)-1)\n",
        "\n",
        "        picks.append(pick)\n",
        "\n",
        "    # 임의로 추출된 인덱스들로 구성된 데이터 프레임 선언\n",
        "    df = pd.DataFrame(dataset[picks])\n",
        "\n",
        "    for column, typ in dataset.features.items():\n",
        "        # 라벨 클래스를 스트링으로 변환\n",
        "        if isinstance(typ, ClassLabel):\n",
        "            df[column] = df[column].transform(lambda i: typ.names[i])\n",
        "\n",
        "    display(HTML(df.to_html()))"
      ],
      "id": "FI-Us8fACNhy",
      "execution_count": null,
      "outputs": []
    },
    {
      "cell_type": "markdown",
      "metadata": {
        "id": "0Tq6c5hWQ9vs"
      },
      "source": [
        "앞서 정의한 함수를 활용해 훈련 데이터를 살펴보도록 합시다.\n",
        "\n",
        "이처럼 데이터를 살펴보는 것의 장점으로는 각 라벨에 어떠한 문장들이 해당하는지에 대한 감을 익힐 수 있다는데에 있습니다.\n",
        "\n",
        "**KLUE TC**는 정치, 경제, 세계, 스포츠, 생활문화, IT과학 그리고 사회 등 총 7개의 라벨을 지니는 데이터셋입니다."
      ],
      "id": "0Tq6c5hWQ9vs"
    },
    {
      "cell_type": "code",
      "metadata": {
        "colab": {
          "base_uri": "https://localhost:8080/",
          "height": 359
        },
        "id": "jkiZLUlrCFm6",
        "outputId": "b8a5f31a-d736-4602-93d8-4352c9d19bed"
      },
      "source": [
        "show_random_elements(datasets[\"validation\"])"
      ],
      "id": "jkiZLUlrCFm6",
      "execution_count": null,
      "outputs": [
        {
          "output_type": "display_data",
          "data": {
            "text/html": [
              "<table border=\"1\" class=\"dataframe\">\n",
              "  <thead>\n",
              "    <tr style=\"text-align: right;\">\n",
              "      <th></th>\n",
              "      <th>date</th>\n",
              "      <th>guid</th>\n",
              "      <th>label</th>\n",
              "      <th>title</th>\n",
              "      <th>url</th>\n",
              "    </tr>\n",
              "  </thead>\n",
              "  <tbody>\n",
              "    <tr>\n",
              "      <th>0</th>\n",
              "      <td>2020.03.19. 오전 9:05</td>\n",
              "      <td>ynat-v1_dev_07753</td>\n",
              "      <td>경제</td>\n",
              "      <td>1보 코스피 반등 출발…장중 1620선 회복</td>\n",
              "      <td>https://news.naver.com/main/read.nhn?mode=LS2D&amp;mid=shm&amp;sid1=101&amp;sid2=259&amp;oid=001&amp;aid=0011483017</td>\n",
              "    </tr>\n",
              "    <tr>\n",
              "      <th>1</th>\n",
              "      <td>2017.08.21. 오전 11:35</td>\n",
              "      <td>ynat-v1_dev_00817</td>\n",
              "      <td>생활문화</td>\n",
              "      <td>필묵으로 승화한 논어…사체四體 6만4천자 9년만에 완성</td>\n",
              "      <td>https://news.naver.com/main/read.nhn?mode=LS2D&amp;mid=shm&amp;sid1=103&amp;sid2=242&amp;oid=001&amp;aid=0009487092</td>\n",
              "    </tr>\n",
              "    <tr>\n",
              "      <th>2</th>\n",
              "      <td>2018.07.18 18:19</td>\n",
              "      <td>ynat-v1_dev_01527</td>\n",
              "      <td>스포츠</td>\n",
              "      <td>올해도 반전 꿈꾸는 롯데…작년 이맘때와 성적 비슷하네요</td>\n",
              "      <td>https://sports.news.naver.com/news.nhn?oid=001&amp;aid=0010218607</td>\n",
              "    </tr>\n",
              "    <tr>\n",
              "      <th>3</th>\n",
              "      <td>2018.02.09. 오전 11:00</td>\n",
              "      <td>ynat-v1_dev_03602</td>\n",
              "      <td>생활문화</td>\n",
              "      <td>주말 N 여행 호남권 간간 쫄깃쫄깃 알큰 배릿한 맛…벌교 꼬막이 왔어요</td>\n",
              "      <td>https://news.naver.com/main/read.nhn?mode=LS2D&amp;mid=shm&amp;sid1=103&amp;sid2=237&amp;oid=001&amp;aid=0009874310</td>\n",
              "    </tr>\n",
              "    <tr>\n",
              "      <th>4</th>\n",
              "      <td>2020.04.27. 오전 6:15</td>\n",
              "      <td>ynat-v1_dev_02020</td>\n",
              "      <td>경제</td>\n",
              "      <td>오락가락 규제에 지친 국내 인터넷은행 1호 사원 떠난다</td>\n",
              "      <td>https://news.naver.com/main/read.nhn?mode=LS2D&amp;mid=shm&amp;sid1=101&amp;sid2=263&amp;oid=001&amp;aid=0011572643</td>\n",
              "    </tr>\n",
              "    <tr>\n",
              "      <th>5</th>\n",
              "      <td>2019.02.11. 오후 7:37</td>\n",
              "      <td>ynat-v1_dev_08964</td>\n",
              "      <td>세계</td>\n",
              "      <td>아자디 광장에서 열린 이란 이슬람혁명 40주년 대규모 집회</td>\n",
              "      <td>https://news.naver.com/main/read.nhn?mode=LS2D&amp;mid=shm&amp;sid1=104&amp;sid2=234&amp;oid=001&amp;aid=0010627894</td>\n",
              "    </tr>\n",
              "    <tr>\n",
              "      <th>6</th>\n",
              "      <td>2016.09.23. 오전 9:38</td>\n",
              "      <td>ynat-v1_dev_02558</td>\n",
              "      <td>사회</td>\n",
              "      <td>정부 기초연구사업 연구비 제때 준 적 한번도 없어</td>\n",
              "      <td>https://news.naver.com/main/read.nhn?mode=LS2D&amp;mid=shm&amp;sid1=105&amp;sid2=228&amp;oid=001&amp;aid=0008702015</td>\n",
              "    </tr>\n",
              "    <tr>\n",
              "      <th>7</th>\n",
              "      <td>2018.04.26. 오전 7:01</td>\n",
              "      <td>ynat-v1_dev_06826</td>\n",
              "      <td>정치</td>\n",
              "      <td>정상회담 D1 강직 文대통령 파격 金위원장 케미 주목</td>\n",
              "      <td>https://news.naver.com/main/read.nhn?mode=LS2D&amp;mid=shm&amp;sid1=100&amp;sid2=264&amp;oid=001&amp;aid=0010047601</td>\n",
              "    </tr>\n",
              "    <tr>\n",
              "      <th>8</th>\n",
              "      <td>2020.04.07. 오전 10:21</td>\n",
              "      <td>ynat-v1_dev_03040</td>\n",
              "      <td>사회</td>\n",
              "      <td>충주시 외국인 근로자 자가격리 이행 특별 점검</td>\n",
              "      <td>https://news.naver.com/main/read.nhn?mode=LS2D&amp;mid=shm&amp;sid1=102&amp;sid2=251&amp;oid=001&amp;aid=0011528501</td>\n",
              "    </tr>\n",
              "    <tr>\n",
              "      <th>9</th>\n",
              "      <td>2016.07.29. 오전 11:00</td>\n",
              "      <td>ynat-v1_dev_04169</td>\n",
              "      <td>생활문화</td>\n",
              "      <td>주말 N 여행 아무도 몰라야 진짜 휴가랍니다… 비밀의 계곡 3選</td>\n",
              "      <td>https://news.naver.com/main/read.nhn?mode=LS2D&amp;mid=shm&amp;sid1=103&amp;sid2=237&amp;oid=001&amp;aid=0008573829</td>\n",
              "    </tr>\n",
              "  </tbody>\n",
              "</table>"
            ],
            "text/plain": [
              "<IPython.core.display.HTML object>"
            ]
          },
          "metadata": {
            "tags": []
          }
        }
      ]
    },
    {
      "cell_type": "markdown",
      "metadata": {
        "id": "1WWE_pHxQ1pa"
      },
      "source": [
        "이제 실험에 필요한 토크나이저를 로드합니다."
      ],
      "id": "1WWE_pHxQ1pa"
    },
    {
      "cell_type": "code",
      "metadata": {
        "colab": {
          "base_uri": "https://localhost:8080/",
          "height": 262,
          "referenced_widgets": [
            "a0efcc8da56a40e3bbf974e78764dd7b",
            "4503e634dcec4980bcabcaa47655aec5",
            "50320625aae04c24835938ce9bd5e5f0",
            "3f7022cd84624687aaf0077b88ac05d3",
            "587259c071554789af5b1890eba22ab2",
            "4bb4e9601e5646bfb902569b5f8b6f6f",
            "b340a1ecc95a45cb873946a146b0fd2b",
            "30ead7d38d524feb9cffbc75f512f9b2",
            "2fd06975f7c349c093b9ef515b8dd1dd",
            "215017a1534e4830b1528d37ba6f84c8",
            "b671f0da32e84af2a94a86c826ad657a",
            "fd07266b29144cd7ad7b57cc82d5fe53",
            "ba038bf7572c4342a4a53ee498980b88",
            "52fef33575f3412dbe7d43831e47e3a2",
            "5ced3bbe551d4c0bba7a9dd319929eac",
            "765fbbd9548d43cd88b063f0a663d5cc",
            "a946b26c4e394f8c96f358eec6d2a505",
            "dc94316b763f4081b6c38a4e70d858fc",
            "58c64a9cf2564e2fbaad502c79c6b92f",
            "ca5c82eed4f349fabbcde444b8fc448c",
            "85ee3a9f5bc3419d8a2500e15d8ab8ec",
            "847632c9d61c4b6cb0db6162b3a45a53",
            "bac3a494440b42d8aec03c1cdc55a924",
            "49f98f2abdb34449b3b309360bf81857",
            "146b08951831451c88578f174264d05d",
            "ca6ad25f8a024b9facbe7208a6f68aa1",
            "5577fcdd70254b15801e04bf15a0583a",
            "53f15d0ca7e24e878ca9e7897540357a",
            "0bb681759c56427383503b29c1a27726",
            "df0bbf438c164d6cb05cd2ee693271b5",
            "cf8aff719f6f402d9a2e2553a80afbff",
            "af3743123fbd4435b7f9a8692e0d48f3",
            "12d749d6cec843b8888c86b6ce2365f3",
            "6078205aad3d42c19569e0db12265ccf",
            "343a2ac570604bfb998f2f2284dc33de",
            "e1a031eb49ce43148689d44cdf7e7660",
            "3ac36b0bc21340d68896f38351d83c17",
            "3b2ebc6d3bf94402ad14c64416591efb",
            "e901ab3f9c704717800db7467f7f725f",
            "c239a7b3a1924fb6a07bb32f58c69221"
          ]
        },
        "id": "RowaCylJOf0P",
        "outputId": "13980cc8-680c-4a77-ac29-05d7c17b4462"
      },
      "source": [
        "tokenizer = AutoTokenizer.from_pretrained(\"Huffon/klue-roberta-base-nli\")"
      ],
      "id": "RowaCylJOf0P",
      "execution_count": null,
      "outputs": [
        {
          "output_type": "display_data",
          "data": {
            "application/vnd.jupyter.widget-view+json": {
              "model_id": "a0efcc8da56a40e3bbf974e78764dd7b",
              "version_minor": 0,
              "version_major": 2
            },
            "text/plain": [
              "HBox(children=(FloatProgress(value=0.0, description='Downloading', max=926.0, style=ProgressStyle(description_…"
            ]
          },
          "metadata": {
            "tags": []
          }
        },
        {
          "output_type": "stream",
          "text": [
            "\n"
          ],
          "name": "stdout"
        },
        {
          "output_type": "display_data",
          "data": {
            "application/vnd.jupyter.widget-view+json": {
              "model_id": "2fd06975f7c349c093b9ef515b8dd1dd",
              "version_minor": 0,
              "version_major": 2
            },
            "text/plain": [
              "HBox(children=(FloatProgress(value=0.0, description='Downloading', max=248477.0, style=ProgressStyle(descripti…"
            ]
          },
          "metadata": {
            "tags": []
          }
        },
        {
          "output_type": "stream",
          "text": [
            "\n"
          ],
          "name": "stdout"
        },
        {
          "output_type": "display_data",
          "data": {
            "application/vnd.jupyter.widget-view+json": {
              "model_id": "a946b26c4e394f8c96f358eec6d2a505",
              "version_minor": 0,
              "version_major": 2
            },
            "text/plain": [
              "HBox(children=(FloatProgress(value=0.0, description='Downloading', max=494860.0, style=ProgressStyle(descripti…"
            ]
          },
          "metadata": {
            "tags": []
          }
        },
        {
          "output_type": "stream",
          "text": [
            "\n"
          ],
          "name": "stdout"
        },
        {
          "output_type": "display_data",
          "data": {
            "application/vnd.jupyter.widget-view+json": {
              "model_id": "146b08951831451c88578f174264d05d",
              "version_minor": 0,
              "version_major": 2
            },
            "text/plain": [
              "HBox(children=(FloatProgress(value=0.0, description='Downloading', max=112.0, style=ProgressStyle(description_…"
            ]
          },
          "metadata": {
            "tags": []
          }
        },
        {
          "output_type": "stream",
          "text": [
            "\n"
          ],
          "name": "stdout"
        },
        {
          "output_type": "display_data",
          "data": {
            "application/vnd.jupyter.widget-view+json": {
              "model_id": "12d749d6cec843b8888c86b6ce2365f3",
              "version_minor": 0,
              "version_major": 2
            },
            "text/plain": [
              "HBox(children=(FloatProgress(value=0.0, description='Downloading', max=499.0, style=ProgressStyle(description_…"
            ]
          },
          "metadata": {
            "tags": []
          }
        },
        {
          "output_type": "stream",
          "text": [
            "\n"
          ],
          "name": "stdout"
        }
      ]
    },
    {
      "cell_type": "markdown",
      "metadata": {
        "id": "VBN3RmLCQ2wS"
      },
      "source": [
        "앞서 *Zero-shot Classification* 은 두 문장이 모델의 입력 값으로 함께 들어가므로, `sep_token`이 무엇인지 알아두도록 합니다."
      ],
      "id": "VBN3RmLCQ2wS"
    },
    {
      "cell_type": "code",
      "metadata": {
        "colab": {
          "base_uri": "https://localhost:8080/",
          "height": 35
        },
        "id": "xmcR1lYBOjJG",
        "outputId": "a73e9f38-d1a8-477f-a7e0-bbab90759b7f"
      },
      "source": [
        "tokenizer.sep_token"
      ],
      "id": "xmcR1lYBOjJG",
      "execution_count": null,
      "outputs": [
        {
          "output_type": "execute_result",
          "data": {
            "application/vnd.google.colaboratory.intrinsic+json": {
              "type": "string"
            },
            "text/plain": [
              "'[SEP]'"
            ]
          },
          "metadata": {
            "tags": []
          },
          "execution_count": 4
        }
      ]
    },
    {
      "cell_type": "markdown",
      "metadata": {
        "id": "zjhzZo0ZOsMm"
      },
      "source": [
        "`transformers==4.7.0` 기준 **RoBERTa**와 같이 `token_type_ids`를 사용하지 않는 모델의 경우, `pipeline`을 바로 적용하기 어렵게 [소스 코드](https://huggingface.co/transformers/_modules/transformers/pipelines/zero_shot_classification.html#ZeroShotClassificationPipeline)가 작성이 되어 있습니다.\n",
        "\n",
        "토크나이저 객체가 두 문장이 함께 들어오면 자동으로 두 번째 문장의 `token_type_ids`를 `1`로 채워버리기 때문인데요. 이를 방지하기 위해 두 문장을 토크나이저의 입력 값으로 넣어주는게 아닌 사전에 두 문장을 직접 하나의 문장으로 이어주는 작업을 아래와 같이 거치도록 합니다.\n",
        "\n",
        "수정부에 따라 입력된 두 문장은 `{sent1} {sep_token} {sent2}`와 같은 하나의 문장 형태로 토크나이저에 입력되게 됩니다."
      ],
      "id": "zjhzZo0ZOsMm"
    },
    {
      "cell_type": "code",
      "metadata": {
        "id": "VWRzEYPZLqBN"
      },
      "source": [
        "class ArgumentHandler(ABC):\n",
        "    \"\"\"\n",
        "    Base interface for handling arguments for each :class:`~transformers.pipelines.Pipeline`.\n",
        "    \"\"\"\n",
        "\n",
        "    @abstractmethod\n",
        "    def __call__(self, *args, **kwargs):\n",
        "        raise NotImplementedError()\n",
        "\n",
        "\n",
        "class CustomZeroShotClassificationArgumentHandler(ArgumentHandler):\n",
        "    \"\"\"\n",
        "    Handles arguments for zero-shot for text classification by turning each possible label into an NLI\n",
        "    premise/hypothesis pair.\n",
        "    \"\"\"\n",
        "\n",
        "    def _parse_labels(self, labels):\n",
        "        if isinstance(labels, str):\n",
        "            labels = [label.strip() for label in labels.split(\",\")]\n",
        "        return labels\n",
        "\n",
        "    def __call__(self, sequences, labels, hypothesis_template):\n",
        "        if len(labels) == 0 or len(sequences) == 0:\n",
        "            raise ValueError(\"You must include at least one label and at least one sequence.\")\n",
        "        if hypothesis_template.format(labels[0]) == hypothesis_template:\n",
        "            raise ValueError(\n",
        "                (\n",
        "                    'The provided hypothesis_template \"{}\" was not able to be formatted with the target labels. '\n",
        "                    \"Make sure the passed template includes formatting syntax such as {{}} where the label should go.\"\n",
        "                ).format(hypothesis_template)\n",
        "            )\n",
        "\n",
        "        if isinstance(sequences, str):\n",
        "            sequences = [sequences]\n",
        "        labels = self._parse_labels(labels)\n",
        "\n",
        "        sequence_pairs = []\n",
        "        for sequence in sequences:\n",
        "            # 수정부: 두 문장을 페어로 입력했을 때, `token_type_ids`가 자동으로 붙는 문제를 방지하기 위해 미리 두 문장을 `sep_token` 기준으로 이어주도록 함\n",
        "            sequence_pairs.extend(f\"{sequence} {tokenizer.sep_token} {hypothesis_template.format(label)}\" for label in labels)\n",
        "\n",
        "        return sequence_pairs"
      ],
      "id": "VWRzEYPZLqBN",
      "execution_count": null,
      "outputs": []
    },
    {
      "cell_type": "markdown",
      "metadata": {
        "id": "HIYvu1eIQ5oo"
      },
      "source": [
        "이제 앞서 정의한 커스텀 인자 핸들러와 **KLUE NLI** 데이터를 통해 학습된 모델을 통해 분류기를 초기화해주도록 합니다."
      ],
      "id": "HIYvu1eIQ5oo"
    },
    {
      "cell_type": "code",
      "metadata": {
        "colab": {
          "base_uri": "https://localhost:8080/",
          "height": 66,
          "referenced_widgets": [
            "5fc3a5c8f422445da8c9cae10c47ea67",
            "ba854ac61d2a413c9a0a7d8adb7a71a6",
            "ad711fe372aa4e8e876ffd41caadf34d",
            "b03b45f5e067407280146bf5353a12a0",
            "41f69da446fa498f8e6f660a706cf05e",
            "816f4b584efb499fa057f85a4eeab662",
            "433b7cebf73c495f8e89423e3f8e12c7",
            "423992b7a2a146868aedbdb49332351c"
          ]
        },
        "id": "wYUvhP4LLoz3",
        "outputId": "ad52330b-60b8-4660-9b13-2cf1c168757f"
      },
      "source": [
        "classifier = pipeline(\n",
        "    \"zero-shot-classification\",\n",
        "    args_parser=CustomZeroShotClassificationArgumentHandler(),\n",
        "    model=\"Huffon/klue-roberta-base-nli\",\n",
        ")"
      ],
      "id": "wYUvhP4LLoz3",
      "execution_count": null,
      "outputs": [
        {
          "output_type": "display_data",
          "data": {
            "application/vnd.jupyter.widget-view+json": {
              "model_id": "5fc3a5c8f422445da8c9cae10c47ea67",
              "version_minor": 0,
              "version_major": 2
            },
            "text/plain": [
              "HBox(children=(FloatProgress(value=0.0, description='Downloading', max=442560877.0, style=ProgressStyle(descri…"
            ]
          },
          "metadata": {
            "tags": []
          }
        },
        {
          "output_type": "stream",
          "text": [
            "\n"
          ],
          "name": "stdout"
        }
      ]
    },
    {
      "cell_type": "markdown",
      "metadata": {
        "id": "S-J7_DdMQ-SB"
      },
      "source": [
        "분류기는 *분류를 원하는 문장*, *분류될 수 있는 라벨 리스트* 그리고 두 번째 문장을 만들기 위한 *템플릿* 을 받도록 설계되어 있습니다.\n",
        "\n",
        "아래 예제에서는,\n",
        "\n",
        "```\n",
        "PC 단축키 한번이면 중계 OK…게임방송 보편화 날개 달다 {sep_token} 이는 정치에 관한 것이다.\n",
        "PC 단축키 한번이면 중계 OK…게임방송 보편화 날개 달다 {sep_token} 이는 경제에 관한 것이다.\n",
        "PC 단축키 한번이면 중계 OK…게임방송 보편화 날개 달다 {sep_token} 이는 세계에 관한 것이다.\n",
        "PC 단축키 한번이면 중계 OK…게임방송 보편화 날개 달다 {sep_token} 이는 스포츠에 관한 것이다.\n",
        "PC 단축키 한번이면 중계 OK…게임방송 보편화 날개 달다 {sep_token} 이는 생활문화에 관한 것이다.\n",
        "PC 단축키 한번이면 중계 OK…게임방송 보편화 날개 달다 {sep_token} 이는 IT과학에 관한 것이다.\n",
        "PC 단축키 한번이면 중계 OK…게임방송 보편화 날개 달다 {sep_token} 이는 사회에 관한 것이다.\n",
        "```\n",
        "\n",
        "의 문장 쌍들이 각각 얼마나 `entail` 한지를 계산하는 과정을 통해 클래스에 대한 예측 값이 구해지게 됩니다."
      ],
      "id": "S-J7_DdMQ-SB"
    },
    {
      "cell_type": "code",
      "metadata": {
        "colab": {
          "base_uri": "https://localhost:8080/"
        },
        "id": "1f4d0527-c8f4-45d7-9ac6-624cce5fddae",
        "outputId": "3a7e3ef5-a07e-4559-fc03-370d23d435df"
      },
      "source": [
        "sequence = \"PC 단축키 한번이면 중계 OK…게임방송 보편화 날개 달다\"\n",
        "\n",
        "candidate_labels = [\"정치\", \"경제\", \"세계\", \"스포츠\", \"생활문화\", \"IT과학\", \"사회\"]\n",
        "classifier(\n",
        "    sequence,\n",
        "    candidate_labels,\n",
        "    hypothesis_template=\"이는 {}에 관한 것이다.\",\n",
        ")"
      ],
      "id": "1f4d0527-c8f4-45d7-9ac6-624cce5fddae",
      "execution_count": null,
      "outputs": [
        {
          "output_type": "execute_result",
          "data": {
            "text/plain": [
              "{'labels': ['세계', 'IT과학', '스포츠', '사회', '생활문화', '경제', '정치'],\n",
              " 'scores': [0.24485424160957336,\n",
              "  0.23497962951660156,\n",
              "  0.19247150421142578,\n",
              "  0.1723412424325943,\n",
              "  0.09976600110530853,\n",
              "  0.02977937087416649,\n",
              "  0.025807952508330345],\n",
              " 'sequence': 'PC 단축키 한번이면 중계 OK…게임방송 보편화 날개 달다'}"
            ]
          },
          "metadata": {
            "tags": []
          },
          "execution_count": 10
        }
      ]
    },
    {
      "cell_type": "markdown",
      "metadata": {
        "id": "I15CckAsQ-tI"
      },
      "source": [
        "입력으로 넣어준 문장은 사실 `IT과학`에 속하는 기사 제목이었지만, 아쉽게도 `세계` 라벨을 가장 높은 값으로 예측했군요.\n",
        "\n",
        "하지만 `IT과학`이 그 뒤를 이어 위치한 점은 고무적입니다.\n",
        "\n",
        "이제 **KLUE TC** 검증 데이터를 활용해 *Zero-shot Classification* 파이프라인이 얼마나 괜찮은 예측을 하는지 실험을 할 차례입니다.\n",
        "\n",
        "먼저 아래와 같이 검증 데이터가 가지고 있는 전체 라벨 리스트를 변수로 정의해두겠습니다."
      ],
      "id": "I15CckAsQ-tI"
    },
    {
      "cell_type": "code",
      "metadata": {
        "colab": {
          "base_uri": "https://localhost:8080/"
        },
        "id": "Zd9CIcGjPqaG",
        "outputId": "dbb12c00-8d1b-45ea-d15f-ed4f2a0c2307"
      },
      "source": [
        "id_2_label = datasets[\"validation\"].features[\"label\"].names\n",
        "id_2_label"
      ],
      "id": "Zd9CIcGjPqaG",
      "execution_count": null,
      "outputs": [
        {
          "output_type": "execute_result",
          "data": {
            "text/plain": [
              "['IT과학', '경제', '사회', '생활문화', '세계', '스포츠', '정치']"
            ]
          },
          "metadata": {
            "tags": []
          },
          "execution_count": 11
        }
      ]
    },
    {
      "cell_type": "markdown",
      "metadata": {
        "id": "l9IVagDJQ_Sf"
      },
      "source": [
        "검증 데이터 예제를 순회하며 가장 높은 확률로 예측한 라벨이 실제 골드 라벨과 일치하는 케이스가 얼마나 발생하는지를 카운트합니다."
      ],
      "id": "l9IVagDJQ_Sf"
    },
    {
      "cell_type": "code",
      "metadata": {
        "colab": {
          "base_uri": "https://localhost:8080/"
        },
        "id": "-9Djkdv7H-s8",
        "outputId": "8a055dba-aa95-4075-e098-35f77b03f804"
      },
      "source": [
        "hit = 0\n",
        "\n",
        "for example in tqdm(datasets[\"validation\"]):\n",
        "    result = classifier(\n",
        "        example[\"title\"],\n",
        "        candidate_labels,\n",
        "        hypothesis_template=\"이는 {}에 관한 것이다.\",\n",
        "    )\n",
        "    pred = result[\"labels\"][0]\n",
        "    gold = id_2_label[example[\"label\"]]\n",
        "\n",
        "    if pred == gold:\n",
        "        hit += 1"
      ],
      "id": "-9Djkdv7H-s8",
      "execution_count": null,
      "outputs": [
        {
          "output_type": "stream",
          "text": [
            "100%|██████████| 9107/9107 [1:50:48<00:00,  1.37it/s]\n"
          ],
          "name": "stderr"
        }
      ]
    },
    {
      "cell_type": "markdown",
      "metadata": {
        "id": "BL2lxuhlywu2"
      },
      "source": [
        "전체 9,107개의 예제 중 4,194개 예제에 대해 올바른 예측을 수행했네요 !"
      ],
      "id": "BL2lxuhlywu2"
    },
    {
      "cell_type": "code",
      "metadata": {
        "id": "4lS9T_swP9nm",
        "colab": {
          "base_uri": "https://localhost:8080/"
        },
        "outputId": "541582bf-0cba-439b-90ba-22418a36afc2"
      },
      "source": [
        "hit, len(datasets[\"validation\"])"
      ],
      "id": "4lS9T_swP9nm",
      "execution_count": null,
      "outputs": [
        {
          "output_type": "execute_result",
          "data": {
            "text/plain": [
              "(4194, 9107)"
            ]
          },
          "metadata": {
            "tags": []
          },
          "execution_count": 13
        }
      ]
    },
    {
      "cell_type": "markdown",
      "metadata": {
        "id": "quHJvM_Hy0vt"
      },
      "source": [
        "이는 대략 **46%**의 정확도에 해당합니다. 7개 클래스를 랜덤하게 예측하는 경우, 대략 **14%**의 성능을 기록하게 될테니 훨씬 더 좋은 스타트임을 알 수 있습니다.\n",
        "\n",
        "( \\* 위 결과는 *템플릿* 양식을 변경하는 것만으로 바뀔 수 있습니다.)"
      ],
      "id": "quHJvM_Hy0vt"
    },
    {
      "cell_type": "code",
      "metadata": {
        "colab": {
          "base_uri": "https://localhost:8080/"
        },
        "id": "R_vTOWUg7irs",
        "outputId": "f6d2cdce-41c4-4b73-bb52-e5fcd982cfbc"
      },
      "source": [
        "hit / len(datasets[\"validation\"]) * 100"
      ],
      "id": "R_vTOWUg7irs",
      "execution_count": null,
      "outputs": [
        {
          "output_type": "execute_result",
          "data": {
            "text/plain": [
              "46.05248709783683"
            ]
          },
          "metadata": {
            "tags": []
          },
          "execution_count": 14
        }
      ]
    },
    {
      "cell_type": "markdown",
      "metadata": {
        "id": "RVLOmqMXvCDG"
      },
      "source": [
        "**46%**가 엄청나게 높은 점수는 아니지만 훈련 데이터가 없는 환경에서 실험을 진행하는 경우 혹은 나이브한 베이스라인을 설정할 필요가 있는 경우, 간단하게 위 파이프라인을 적용해볼 수 있을 것 같습니다.\n",
        "\n",
        "지금까지 `transformers` 내 `pipeline`을 통해 학습 데이터 없이 문장을 분류하는 *Zero-shot Classification* 파이프라인을 알아보았습니다.\n",
        "\n",
        "본 노트북을 통해 습득한 지식이 여러분의 업무와 학습에 도움이 되었으면 좋겠습니다.\n",
        "\n",
        "```\n",
        "허 훈 (huffonism@gmail.com)\n",
        "```"
      ],
      "id": "RVLOmqMXvCDG"
    }
  ]
}